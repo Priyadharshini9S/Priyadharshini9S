{
 "cells": [
  {
   "cell_type": "code",
   "execution_count": null,
   "metadata": {},
   "outputs": [
    {
     "ename": "",
     "evalue": "",
     "output_type": "error",
     "traceback": [
      "\u001b[1;31mRunning cells with 'base' requires the ipykernel package.\n",
      "\u001b[1;31mRun the following command to install 'ipykernel' into the Python environment. \n",
      "\u001b[1;31mCommand: 'conda install -n base ipykernel --update-deps --force-reinstall'"
     ]
    }
   ],
   "source": [
    "from tkinter import Variable\n",
    "import pandas as pd\n",
    "import streamlit as st\n",
    "import plotly.express as px\n",
    "from PIL import Image\n",
    "import plotly.figure_factory as ff\n",
    "from matplotlib import pyplot as plt"
   ]
  },
  {
   "cell_type": "code",
   "execution_count": 74,
   "metadata": {},
   "outputs": [
    {
     "data": {
      "text/html": [
       "<div>\n",
       "<style scoped>\n",
       "    .dataframe tbody tr th:only-of-type {\n",
       "        vertical-align: middle;\n",
       "    }\n",
       "\n",
       "    .dataframe tbody tr th {\n",
       "        vertical-align: top;\n",
       "    }\n",
       "\n",
       "    .dataframe thead th {\n",
       "        text-align: right;\n",
       "    }\n",
       "</style>\n",
       "<table border=\"1\" class=\"dataframe\">\n",
       "  <thead>\n",
       "    <tr style=\"text-align: right;\">\n",
       "      <th></th>\n",
       "      <th>secs</th>\n",
       "      <th>stopcode</th>\n",
       "      <th>Group code text</th>\n",
       "      <th>Cause code text</th>\n",
       "    </tr>\n",
       "  </thead>\n",
       "  <tbody>\n",
       "    <tr>\n",
       "      <th>0</th>\n",
       "      <td>28800</td>\n",
       "      <td>3301.0</td>\n",
       "      <td>Planned SME OH</td>\n",
       "      <td>Over haul</td>\n",
       "    </tr>\n",
       "    <tr>\n",
       "      <th>1</th>\n",
       "      <td>28800</td>\n",
       "      <td>3401.0</td>\n",
       "      <td>Planned VULCANSING</td>\n",
       "      <td>BWE Planned vulcanising work</td>\n",
       "    </tr>\n",
       "    <tr>\n",
       "      <th>2</th>\n",
       "      <td>28800</td>\n",
       "      <td>3404.0</td>\n",
       "      <td>Planned VULCANSING</td>\n",
       "      <td>Conveyor planned vulcanising works</td>\n",
       "    </tr>\n",
       "    <tr>\n",
       "      <th>3</th>\n",
       "      <td>28800</td>\n",
       "      <td>901.0</td>\n",
       "      <td>Common Other</td>\n",
       "      <td>OB Rear load</td>\n",
       "    </tr>\n",
       "    <tr>\n",
       "      <th>4</th>\n",
       "      <td>28800</td>\n",
       "      <td>721.0</td>\n",
       "      <td>Common Miscellaneous</td>\n",
       "      <td>Machine on Stand-By</td>\n",
       "    </tr>\n",
       "    <tr>\n",
       "      <th>5</th>\n",
       "      <td>28800</td>\n",
       "      <td>9102.0</td>\n",
       "      <td>Unplanned MM</td>\n",
       "      <td>Unplanned MTC SME MM</td>\n",
       "    </tr>\n",
       "    <tr>\n",
       "      <th>6</th>\n",
       "      <td>28800</td>\n",
       "      <td>1012.0</td>\n",
       "      <td>BWE Operation</td>\n",
       "      <td>BWE Repostioning/movement</td>\n",
       "    </tr>\n",
       "    <tr>\n",
       "      <th>7</th>\n",
       "      <td>28800</td>\n",
       "      <td>1865.0</td>\n",
       "      <td>BWE Electrical</td>\n",
       "      <td>Track Movement Trouble</td>\n",
       "    </tr>\n",
       "    <tr>\n",
       "      <th>8</th>\n",
       "      <td>28800</td>\n",
       "      <td>9202.0</td>\n",
       "      <td>Unplanned MRR</td>\n",
       "      <td>Unplanned MTC SME MRR</td>\n",
       "    </tr>\n",
       "    <tr>\n",
       "      <th>9</th>\n",
       "      <td>28800</td>\n",
       "      <td>3704.0</td>\n",
       "      <td>Planned Track shifting</td>\n",
       "      <td>Shifting</td>\n",
       "    </tr>\n",
       "    <tr>\n",
       "      <th>10</th>\n",
       "      <td>28800</td>\n",
       "      <td>9004.0</td>\n",
       "      <td>Unplanned OPERATION</td>\n",
       "      <td>want of crew.</td>\n",
       "    </tr>\n",
       "    <tr>\n",
       "      <th>11</th>\n",
       "      <td>28800</td>\n",
       "      <td>5501.0</td>\n",
       "      <td>Tripper CMM</td>\n",
       "      <td>Others</td>\n",
       "    </tr>\n",
       "    <tr>\n",
       "      <th>12</th>\n",
       "      <td>28800</td>\n",
       "      <td>5404.0</td>\n",
       "      <td>Tripper Vulcanising</td>\n",
       "      <td>BTR clamp fixing</td>\n",
       "    </tr>\n",
       "    <tr>\n",
       "      <th>13</th>\n",
       "      <td>28800</td>\n",
       "      <td>3405.0</td>\n",
       "      <td>Planned VULCANSING</td>\n",
       "      <td>Tripper planned vulcanising works</td>\n",
       "    </tr>\n",
       "    <tr>\n",
       "      <th>14</th>\n",
       "      <td>28800</td>\n",
       "      <td>1007.0</td>\n",
       "      <td>BWE Operation</td>\n",
       "      <td>Seq. cable feeding point changing</td>\n",
       "    </tr>\n",
       "  </tbody>\n",
       "</table>\n",
       "</div>"
      ],
      "text/plain": [
       "     secs  stopcode         Group code text  \\\n",
       "0   28800    3301.0          Planned SME OH   \n",
       "1   28800    3401.0      Planned VULCANSING   \n",
       "2   28800    3404.0      Planned VULCANSING   \n",
       "3   28800     901.0            Common Other   \n",
       "4   28800     721.0    Common Miscellaneous   \n",
       "5   28800    9102.0            Unplanned MM   \n",
       "6   28800    1012.0           BWE Operation   \n",
       "7   28800    1865.0          BWE Electrical   \n",
       "8   28800    9202.0           Unplanned MRR   \n",
       "9   28800    3704.0  Planned Track shifting   \n",
       "10  28800    9004.0     Unplanned OPERATION   \n",
       "11  28800    5501.0             Tripper CMM   \n",
       "12  28800    5404.0     Tripper Vulcanising   \n",
       "13  28800    3405.0      Planned VULCANSING   \n",
       "14  28800    1007.0           BWE Operation   \n",
       "\n",
       "                       Cause code text  \n",
       "0                            Over haul  \n",
       "1         BWE Planned vulcanising work  \n",
       "2   Conveyor planned vulcanising works  \n",
       "3                         OB Rear load  \n",
       "4                  Machine on Stand-By  \n",
       "5                 Unplanned MTC SME MM  \n",
       "6            BWE Repostioning/movement  \n",
       "7               Track Movement Trouble  \n",
       "8                Unplanned MTC SME MRR  \n",
       "9                             Shifting  \n",
       "10                       want of crew.  \n",
       "11                              Others  \n",
       "12                    BTR clamp fixing  \n",
       "13   Tripper planned vulcanising works  \n",
       "14   Seq. cable feeding point changing  "
      ]
     },
     "execution_count": 74,
     "metadata": {},
     "output_type": "execute_result"
    }
   ],
   "source": [
    "excel_file = 'book.xlsx'\n",
    "sheet_name = 'emp'\n",
    "df = pd.read_excel(excel_file,sheet_name=sheet_name,usecols='A:G')\n",
    "df.head()"
   ]
  },
  {
   "cell_type": "code",
   "execution_count": 75,
   "metadata": {},
   "outputs": [
    {
     "data": {
      "text/plain": [
       "(143, 4)"
      ]
     },
     "execution_count": 75,
     "metadata": {},
     "output_type": "execute_result"
    }
   ],
   "source": [
    "df.shape"
   ]
  },
  {
   "cell_type": "code",
   "execution_count": 76,
   "metadata": {},
   "outputs": [
    {
     "name": "stdout",
     "output_type": "stream",
     "text": [
      "Total Rows: 143\n"
     ]
    }
   ],
   "source": [
    "total_rows=df.shape[0]\n",
    "print(f'Total Rows: {total_rows}')"
   ]
  },
  {
   "cell_type": "code",
   "execution_count": 77,
   "metadata": {},
   "outputs": [
    {
     "data": {
      "text/plain": [
       "[28800,\n",
       " 27000,\n",
       " 25500,\n",
       " 25200,\n",
       " 24300,\n",
       " 24000,\n",
       " 23400,\n",
       " 22800,\n",
       " 22500,\n",
       " 21600,\n",
       " 20700,\n",
       " 20400,\n",
       " 20100,\n",
       " 19800,\n",
       " 19200,\n",
       " 18900,\n",
       " 18000,\n",
       " 17700,\n",
       " 17100,\n",
       " 16800,\n",
       " 16200,\n",
       " 15900,\n",
       " 15600,\n",
       " 15300,\n",
       " 14400,\n",
       " 13800,\n",
       " 13500,\n",
       " 12900,\n",
       " 12600,\n",
       " 12000,\n",
       " 11700,\n",
       " 11400,\n",
       " 11100,\n",
       " 10800,\n",
       " 9900,\n",
       " 9600,\n",
       " 9300,\n",
       " 9000,\n",
       " 8100,\n",
       " 7800,\n",
       " 7500,\n",
       " 7200,\n",
       " 6600,\n",
       " 6300,\n",
       " 5400,\n",
       " 5100,\n",
       " 4800,\n",
       " 4500,\n",
       " 4200,\n",
       " 3600,\n",
       " 2400,\n",
       " 1800,\n",
       " 900,\n",
       " 0]"
      ]
     },
     "execution_count": 77,
     "metadata": {},
     "output_type": "execute_result"
    }
   ],
   "source": [
    "secs = df['secs'].unique().tolist()\n",
    "secs"
   ]
  },
  {
   "cell_type": "code",
   "execution_count": 78,
   "metadata": {},
   "outputs": [],
   "source": [
    "secs_selection = [28800,\n",
    " 27000,\n",
    " 25500,\n",
    " 25200,\n",
    " 24300,\n",
    " 24000,\n",
    " 23400,\n",
    " 22800,\n",
    " 22500,\n",
    " 21600,\n",
    " 20700,\n",
    " 20400,\n",
    " 20100,\n",
    " 19800,\n",
    " 19200,\n",
    " 18900,\n",
    " 18000,\n",
    " 17700,\n",
    " 17100,\n",
    " 16800,\n",
    " 16200]"
   ]
  },
  {
   "cell_type": "code",
   "execution_count": 79,
   "metadata": {},
   "outputs": [
    {
     "data": {
      "text/plain": [
       "[3301.0,\n",
       " 3401.0,\n",
       " 3404.0,\n",
       " 901.0,\n",
       " 721.0,\n",
       " 9102.0,\n",
       " 1012.0,\n",
       " 1865.0,\n",
       " 9202.0,\n",
       " 3704.0,\n",
       " 9004.0,\n",
       " 5501.0,\n",
       " 5404.0,\n",
       " 3405.0,\n",
       " 1007.0,\n",
       " 9801.0,\n",
       " 1159.0,\n",
       " 4401.0,\n",
       " 9499.0,\n",
       " 902.0,\n",
       " 1014.0,\n",
       " 3702.0,\n",
       " 2101.0,\n",
       " 750.0,\n",
       " 2103.0,\n",
       " 1817.0,\n",
       " 4405.0,\n",
       " 4501.0,\n",
       " 3002.0,\n",
       " 9101.0,\n",
       " 1099.0,\n",
       " 799.0,\n",
       " 9904.0,\n",
       " 1015.0,\n",
       " 6099.0,\n",
       " 4670.0,\n",
       " 749.0,\n",
       " 899.0,\n",
       " 702.0,\n",
       " 4001.0,\n",
       " 3499.0,\n",
       " 3799.0,\n",
       " 4017.0,\n",
       " 801.0,\n",
       " 4419.0,\n",
       " 1864.0,\n",
       " 4417.0,\n",
       " 9404.0,\n",
       " 6122.0,\n",
       " 1107.0,\n",
       " 8122.0,\n",
       " 8499.0,\n",
       " 1801.0,\n",
       " 711.0,\n",
       " 1199.0,\n",
       " 2199.0,\n",
       " 1101.0,\n",
       " 4412.0,\n",
       " 4522.0,\n",
       " 7109.0,\n",
       " 4816.0,\n",
       " 701.0,\n",
       " 8199.0,\n",
       " 4602.0,\n",
       " 5499.0,\n",
       " 2865.0,\n",
       " 4003.0,\n",
       " 4406.0,\n",
       " 1899.0,\n",
       " 1202.0,\n",
       " 4532.0,\n",
       " 1.0,\n",
       " 9201.0,\n",
       " 4415.0,\n",
       " 1016.0,\n",
       " 1139.0,\n",
       " 1499.0,\n",
       " 770.0,\n",
       " 4418.0,\n",
       " 4628.0,\n",
       " 815.0,\n",
       " 4599.0,\n",
       " 4099.0,\n",
       " 1109.0,\n",
       " 759.0,\n",
       " 705.0,\n",
       " 2099.0,\n",
       " 2104.0,\n",
       " 2130.0,\n",
       " 4016.0,\n",
       " 4005.0,\n",
       " 5002.0,\n",
       " 5405.0,\n",
       " 5403.0,\n",
       " 1009.0,\n",
       " 4411.0,\n",
       " 2899.0,\n",
       " 58.0,\n",
       " 4407.0,\n",
       " 6816.0,\n",
       " 2147.0,\n",
       " 1863.0,\n",
       " 1299.0,\n",
       " 4025.0,\n",
       " 2202.0,\n",
       " 1802.0,\n",
       " 4899.0,\n",
       " 4416.0,\n",
       " 99.0,\n",
       " 4420.0,\n",
       " 4802.0,\n",
       " 731.0,\n",
       " 4699.0,\n",
       " 1262.0,\n",
       " 4808.0,\n",
       " 5099.0,\n",
       " 1816.0,\n",
       " 6406.0,\n",
       " 1804.0,\n",
       " 6141.0,\n",
       " 1409.0,\n",
       " 743.0,\n",
       " 4548.0,\n",
       " 2817.0,\n",
       " 712.0,\n",
       " 8099.0,\n",
       " 2299.0,\n",
       " 1146.0,\n",
       " 4530.0,\n",
       " 4499.0,\n",
       " 4528.0,\n",
       " 4837.0,\n",
       " 4801.0,\n",
       " 2816.0,\n",
       " 4807.0,\n",
       " 4404.0,\n",
       " 7012.0,\n",
       " 4409.0,\n",
       " 1001.0,\n",
       " 1151.0,\n",
       " 2007.0,\n",
       " 40.0,\n",
       " nan]"
      ]
     },
     "execution_count": 79,
     "metadata": {},
     "output_type": "execute_result"
    }
   ],
   "source": [
    "stopcode = df['stopcode'].unique().tolist()\n",
    "stopcode"
   ]
  },
  {
   "cell_type": "code",
   "execution_count": 80,
   "metadata": {},
   "outputs": [],
   "source": [
    "stopcode_selection = [3301.0,\n",
    " 3401.0,\n",
    " 3404.0,\n",
    " 901.0,\n",
    " 721.0,\n",
    " 9102.0,\n",
    " 1012.0,\n",
    " 1865.0,\n",
    " 9202.0,\n",
    " 3704.0,\n",
    " 9004.0,\n",
    " 5501.0,\n",
    " 5404.0,\n",
    " 3405.0,\n",
    " 1007.0,\n",
    " 9801.0,\n",
    " 1159.0,\n",
    " 4401.0,\n",
    " 9499.0,\n",
    " 902.0,\n",
    " 1014.0,\n",
    " 3702.0]"
   ]
  },
  {
   "cell_type": "code",
   "execution_count": 81,
   "metadata": {},
   "outputs": [
    {
     "data": {
      "text/plain": [
       "['Planned SME OH',\n",
       " 'Planned VULCANSING',\n",
       " 'Common Other',\n",
       " 'Common Miscellaneous',\n",
       " 'Unplanned MM',\n",
       " 'BWE Operation',\n",
       " 'BWE Electrical',\n",
       " 'Unplanned MRR',\n",
       " 'Planned Track shifting',\n",
       " 'Unplanned OPERATION',\n",
       " 'Tripper CMM',\n",
       " 'Tripper Vulcanising',\n",
       " 'Unplanned ELECTRICAL',\n",
       " 'BWE MM',\n",
       " 'Conveyor Vulcanising',\n",
       " 'Unplanned Vulcanising',\n",
       " 'MTC MM',\n",
       " 'Conveyor CMM',\n",
       " 'Planned Operation',\n",
       " 'Unplanned SME',\n",
       " 'Spreader Operation',\n",
       " 'Conveyor CMRR',\n",
       " 'Common Electrical',\n",
       " 'Conveyor Operation',\n",
       " 'Spreader MM',\n",
       " 'Reclaimer MM',\n",
       " 'Reclaimer Vulcanising',\n",
       " 'Stacker MM',\n",
       " 'Conveyor Electrical',\n",
       " 'MTC Electrical',\n",
       " 'BWE MRR',\n",
       " 'Common Operation',\n",
       " 'BWE VULCANSING',\n",
       " 'MTC Operation',\n",
       " 'Tripper Operation',\n",
       " 'Spreader Electrical',\n",
       " 'MTC MRR',\n",
       " 'Spreader Vulcanising',\n",
       " 'Reclaimer Operation',\n",
       " 'Stacker Operation',\n",
       " nan]"
      ]
     },
     "execution_count": 81,
     "metadata": {},
     "output_type": "execute_result"
    }
   ],
   "source": [
    "Groupcodetext = df['Group code text'].unique().tolist()\n",
    "Groupcodetext"
   ]
  },
  {
   "cell_type": "code",
   "execution_count": 82,
   "metadata": {},
   "outputs": [],
   "source": [
    "Groupcodetext_selection = ['Planned SME OH',\n",
    " 'Planned VULCANSING',\n",
    " 'Common Other',\n",
    " 'Common Miscellaneous',\n",
    " 'Unplanned MM',\n",
    " 'BWE Operation',\n",
    " 'BWE Electrical',\n",
    " 'Unplanned MRR',\n",
    " 'Planned Track shifting',\n",
    " 'Unplanned OPERATION',\n",
    " 'Tripper CMM',\n",
    " 'Tripper Vulcanising',\n",
    " 'Unplanned ELECTRICAL',\n",
    " 'BWE MM',\n",
    " 'Conveyor Vulcanising',\n",
    " 'Unplanned Vulcanising',\n",
    " 'MTC MM',\n",
    " 'Conveyor CMM',\n",
    " 'Planned Operation',\n",
    " 'Unplanned SME',\n",
    " 'Spreader Operation']"
   ]
  },
  {
   "cell_type": "code",
   "execution_count": 83,
   "metadata": {},
   "outputs": [
    {
     "data": {
      "text/plain": [
       "['Over haul',\n",
       " 'BWE Planned vulcanising work',\n",
       " 'Conveyor planned vulcanising works',\n",
       " 'OB Rear load',\n",
       " 'Machine on Stand-By',\n",
       " 'Unplanned MTC SME MM',\n",
       " 'BWE Repostioning/movement',\n",
       " 'Track Movement Trouble',\n",
       " 'Unplanned MTC SME MRR',\n",
       " 'Shifting',\n",
       " 'want of crew.',\n",
       " 'Others',\n",
       " 'BTR clamp fixing',\n",
       " 'Tripper planned vulcanising works',\n",
       " 'Seq. cable feeding point changing',\n",
       " 'Mc Cable Drum chain/Roller - Adj/Chg/Bolt fixing/Tensioning',\n",
       " 'Belt changing',\n",
       " 'Lignite Rearload',\n",
       " 'Bucketwheel forwarding work',\n",
       " 'Extension',\n",
       " 'Mc Track Plate (1/2pad) Chg/Repair works',\n",
       " 'De-watering works',\n",
       " 'Mc Full Track Plate Pin/Plates Chg/Cutting-Welding',\n",
       " 'Hoisting/lowering trouble-ele.',\n",
       " 'Center core cutting',\n",
       " 'Line  roller changing/removal',\n",
       " 'Daily maintenance',\n",
       " 'Bucket wheel unplanned SME MM',\n",
       " 'Belt snapped due to overtension',\n",
       " 'Bucketwheel reversal work',\n",
       " 'Mini Auto Others',\n",
       " 'Rain and after effects',\n",
       " 'Lineout adjustment',\n",
       " 'Load clearing',\n",
       " 'Feeder tripped on earth fault.',\n",
       " 'Weak joint elimination',\n",
       " 'Belt starting trouble',\n",
       " 'Waiting for vulcanising crew',\n",
       " 'Conveyor unplanned vulcanising',\n",
       " 'Mc RB/DB hopper belt/Frame- Chg/Adj/Repair',\n",
       " 'Mc Track/cam/cardon shaft- Closing/welding/Chg',\n",
       " 'Mc RB Cross wiper/Frame- Removal/Adj/Chg works',\n",
       " 'Motor inspn/trouble/work.',\n",
       " 'obstruction by outsiders.',\n",
       " 'Other works',\n",
       " 'Through cut repair work',\n",
       " 'TE deck plates changing & repair works',\n",
       " 'Electrical work/trouble.',\n",
       " 'Rain',\n",
       " 'Other Works',\n",
       " 'DH Changing of belt drive gear box in primary LHS',\n",
       " 'drum coating removal.',\n",
       " 'Centre core cutting',\n",
       " 'Belt piece Cutting',\n",
       " 'BOTTOM ROLLER CHANGING',\n",
       " 'TE V-wiper chng./adj., V-wiper frame chng and repair works',\n",
       " 'Late arrival/change of crew.',\n",
       " 'Unplanned BWE MRR',\n",
       " 'TE Cleaning due to non avilability of BTR clamps',\n",
       " 'Foreign material removal from cutface',\n",
       " 'Mc/BW eye changing',\n",
       " 'others',\n",
       " 'Stoppage due to blasting',\n",
       " 'Supply tripped due to Vulacnising electrical fault',\n",
       " 'SF - Belt tensioning and line out correction',\n",
       " 'LT fault /Tripped',\n",
       " 'Other',\n",
       " 'Mc Brake Frame/Shoe/Tie rod - Adj/Chg/Repair',\n",
       " 'GWC Others',\n",
       " 'TS conveyor stopped',\n",
       " 'Mc Derailed Track/Roller/Cam/Pin - Reposition/Chg/Repair',\n",
       " 'Conveyor stopped on overload',\n",
       " 'TE cleaning',\n",
       " 'D/Belt hopper cleaning',\n",
       " 'Core cutting',\n",
       " 'Seq. cable changing',\n",
       " 'Belt edge Chambering work',\n",
       " 'Poor approach',\n",
       " 'Belt Inspection',\n",
       " 'Electrical Work',\n",
       " 'Mc RB line out adjustment',\n",
       " 'M/C Main / Discharge Boom slewing trouble',\n",
       " 'OTHERS',\n",
       " 'Roller fixing',\n",
       " 'Motor isolation/introduction.',\n",
       " 'joint/belt inspection.',\n",
       " 'TE cleaning due to throughcut',\n",
       " 'Non-availability of dozer',\n",
       " 'Oil/grease Topup',\n",
       " 'LT fault/tripped.',\n",
       " 'Main/D/Boom slewing/ thyristor circuit fault.',\n",
       " 'Mc RB 3 part roller changing (RHS, Centre, LHS)',\n",
       " 'BTR Clamp fixing',\n",
       " 'Pickup unavailable at pickup stand',\n",
       " 'DH/TE  cross wiper changing / adjustment/ Removal',\n",
       " 'Dumping side sliding/ground subsidence',\n",
       " 'Mc/BW mud cover repair work',\n",
       " 'TE RPG-wiper adjustment/changing/frame changing/repair works',\n",
       " 'TE PR/INV. PR/ Changing/frame removal, adjustment, repair',\n",
       " 'bero seq.trouble/changing.',\n",
       " 'control (MCB) ckt.fault.',\n",
       " 'Hot VulcanisingJoint Work',\n",
       " 'M-2 Stacker side changing',\n",
       " 'BWE Track Area Preparation',\n",
       " 'Mc/BW Ring Chute Wiper Wear plate/Mother Repair works',\n",
       " 'Seq. cable feeding piont changing',\n",
       " nan]"
      ]
     },
     "execution_count": 83,
     "metadata": {},
     "output_type": "execute_result"
    }
   ],
   "source": [
    "Causecodetext = df['Cause code text'].unique().tolist()\n",
    "Causecodetext"
   ]
  },
  {
   "cell_type": "code",
   "execution_count": 84,
   "metadata": {},
   "outputs": [],
   "source": [
    "Causecodetext_selection =['Over haul',\n",
    " 'BWE Planned vulcanising work',\n",
    " 'Conveyor planned vulcanising works',\n",
    " 'OB Rear load',\n",
    " 'Machine on Stand-By',\n",
    " 'Unplanned MTC SME MM',\n",
    " 'BWE Repostioning/movement',\n",
    " 'Track Movement Trouble',\n",
    " 'Unplanned MTC SME MRR',\n",
    " 'Shifting',\n",
    " 'want of crew.',\n",
    " 'Others',\n",
    " 'BTR clamp fixing',\n",
    " 'Tripper planned vulcanising works',\n",
    " 'Seq. cable feeding point changing',\n",
    " 'Mc Cable Drum chain/Roller - Adj/Chg/Bolt fixing/Tensioning',\n",
    " 'Belt changing',\n",
    " 'Lignite Rearload',\n",
    " 'Bucketwheel forwarding work',\n",
    " 'Extension',\n",
    " 'Mc Track Plate (1/2pad) Chg/Repair works']"
   ]
  },
  {
   "cell_type": "code",
   "execution_count": 85,
   "metadata": {},
   "outputs": [
    {
     "data": {
      "text/html": [
       "<div>\n",
       "<style scoped>\n",
       "    .dataframe tbody tr th:only-of-type {\n",
       "        vertical-align: middle;\n",
       "    }\n",
       "\n",
       "    .dataframe tbody tr th {\n",
       "        vertical-align: top;\n",
       "    }\n",
       "\n",
       "    .dataframe thead th {\n",
       "        text-align: right;\n",
       "    }\n",
       "</style>\n",
       "<table border=\"1\" class=\"dataframe\">\n",
       "  <thead>\n",
       "    <tr style=\"text-align: right;\">\n",
       "      <th></th>\n",
       "      <th>secs</th>\n",
       "      <th>stopcode</th>\n",
       "      <th>Group code text</th>\n",
       "      <th>Cause code text</th>\n",
       "    </tr>\n",
       "  </thead>\n",
       "  <tbody>\n",
       "    <tr>\n",
       "      <th>0</th>\n",
       "      <td>28800</td>\n",
       "      <td>3301.0</td>\n",
       "      <td>Planned SME OH</td>\n",
       "      <td>Over haul</td>\n",
       "    </tr>\n",
       "    <tr>\n",
       "      <th>1</th>\n",
       "      <td>28800</td>\n",
       "      <td>3401.0</td>\n",
       "      <td>Planned VULCANSING</td>\n",
       "      <td>BWE Planned vulcanising work</td>\n",
       "    </tr>\n",
       "    <tr>\n",
       "      <th>2</th>\n",
       "      <td>28800</td>\n",
       "      <td>3404.0</td>\n",
       "      <td>Planned VULCANSING</td>\n",
       "      <td>Conveyor planned vulcanising works</td>\n",
       "    </tr>\n",
       "    <tr>\n",
       "      <th>3</th>\n",
       "      <td>28800</td>\n",
       "      <td>901.0</td>\n",
       "      <td>Common Other</td>\n",
       "      <td>OB Rear load</td>\n",
       "    </tr>\n",
       "    <tr>\n",
       "      <th>4</th>\n",
       "      <td>28800</td>\n",
       "      <td>721.0</td>\n",
       "      <td>Common Miscellaneous</td>\n",
       "      <td>Machine on Stand-By</td>\n",
       "    </tr>\n",
       "    <tr>\n",
       "      <th>5</th>\n",
       "      <td>28800</td>\n",
       "      <td>9102.0</td>\n",
       "      <td>Unplanned MM</td>\n",
       "      <td>Unplanned MTC SME MM</td>\n",
       "    </tr>\n",
       "    <tr>\n",
       "      <th>6</th>\n",
       "      <td>28800</td>\n",
       "      <td>1012.0</td>\n",
       "      <td>BWE Operation</td>\n",
       "      <td>BWE Repostioning/movement</td>\n",
       "    </tr>\n",
       "    <tr>\n",
       "      <th>7</th>\n",
       "      <td>28800</td>\n",
       "      <td>1865.0</td>\n",
       "      <td>BWE Electrical</td>\n",
       "      <td>Track Movement Trouble</td>\n",
       "    </tr>\n",
       "    <tr>\n",
       "      <th>8</th>\n",
       "      <td>28800</td>\n",
       "      <td>9202.0</td>\n",
       "      <td>Unplanned MRR</td>\n",
       "      <td>Unplanned MTC SME MRR</td>\n",
       "    </tr>\n",
       "    <tr>\n",
       "      <th>9</th>\n",
       "      <td>28800</td>\n",
       "      <td>3704.0</td>\n",
       "      <td>Planned Track shifting</td>\n",
       "      <td>Shifting</td>\n",
       "    </tr>\n",
       "  </tbody>\n",
       "</table>\n",
       "</div>"
      ],
      "text/plain": [
       "    secs  stopcode         Group code text                     Cause code text\n",
       "0  28800    3301.0          Planned SME OH                           Over haul\n",
       "1  28800    3401.0      Planned VULCANSING        BWE Planned vulcanising work\n",
       "2  28800    3404.0      Planned VULCANSING  Conveyor planned vulcanising works\n",
       "3  28800     901.0            Common Other                        OB Rear load\n",
       "4  28800     721.0    Common Miscellaneous                 Machine on Stand-By\n",
       "5  28800    9102.0            Unplanned MM                Unplanned MTC SME MM\n",
       "6  28800    1012.0           BWE Operation           BWE Repostioning/movement\n",
       "7  28800    1865.0          BWE Electrical              Track Movement Trouble\n",
       "8  28800    9202.0           Unplanned MRR               Unplanned MTC SME MRR\n",
       "9  28800    3704.0  Planned Track shifting                            Shifting"
      ]
     },
     "execution_count": 85,
     "metadata": {},
     "output_type": "execute_result"
    }
   ],
   "source": [
    "mask = df['secs'].isin(secs_selection)\n",
    "df[mask].head(10)"
   ]
  },
  {
   "cell_type": "code",
   "execution_count": 86,
   "metadata": {},
   "outputs": [
    {
     "data": {
      "text/html": [
       "<div>\n",
       "<style scoped>\n",
       "    .dataframe tbody tr th:only-of-type {\n",
       "        vertical-align: middle;\n",
       "    }\n",
       "\n",
       "    .dataframe tbody tr th {\n",
       "        vertical-align: top;\n",
       "    }\n",
       "\n",
       "    .dataframe thead th {\n",
       "        text-align: right;\n",
       "    }\n",
       "</style>\n",
       "<table border=\"1\" class=\"dataframe\">\n",
       "  <thead>\n",
       "    <tr style=\"text-align: right;\">\n",
       "      <th></th>\n",
       "      <th>secs</th>\n",
       "      <th>stopcode</th>\n",
       "      <th>Group code text</th>\n",
       "      <th>Cause code text</th>\n",
       "    </tr>\n",
       "  </thead>\n",
       "  <tbody>\n",
       "    <tr>\n",
       "      <th>0</th>\n",
       "      <td>28800</td>\n",
       "      <td>3301.0</td>\n",
       "      <td>Planned SME OH</td>\n",
       "      <td>Over haul</td>\n",
       "    </tr>\n",
       "    <tr>\n",
       "      <th>1</th>\n",
       "      <td>28800</td>\n",
       "      <td>3401.0</td>\n",
       "      <td>Planned VULCANSING</td>\n",
       "      <td>BWE Planned vulcanising work</td>\n",
       "    </tr>\n",
       "    <tr>\n",
       "      <th>2</th>\n",
       "      <td>28800</td>\n",
       "      <td>3404.0</td>\n",
       "      <td>Planned VULCANSING</td>\n",
       "      <td>Conveyor planned vulcanising works</td>\n",
       "    </tr>\n",
       "    <tr>\n",
       "      <th>3</th>\n",
       "      <td>28800</td>\n",
       "      <td>901.0</td>\n",
       "      <td>Common Other</td>\n",
       "      <td>OB Rear load</td>\n",
       "    </tr>\n",
       "    <tr>\n",
       "      <th>4</th>\n",
       "      <td>28800</td>\n",
       "      <td>721.0</td>\n",
       "      <td>Common Miscellaneous</td>\n",
       "      <td>Machine on Stand-By</td>\n",
       "    </tr>\n",
       "    <tr>\n",
       "      <th>5</th>\n",
       "      <td>28800</td>\n",
       "      <td>9102.0</td>\n",
       "      <td>Unplanned MM</td>\n",
       "      <td>Unplanned MTC SME MM</td>\n",
       "    </tr>\n",
       "    <tr>\n",
       "      <th>6</th>\n",
       "      <td>28800</td>\n",
       "      <td>1012.0</td>\n",
       "      <td>BWE Operation</td>\n",
       "      <td>BWE Repostioning/movement</td>\n",
       "    </tr>\n",
       "    <tr>\n",
       "      <th>7</th>\n",
       "      <td>28800</td>\n",
       "      <td>1865.0</td>\n",
       "      <td>BWE Electrical</td>\n",
       "      <td>Track Movement Trouble</td>\n",
       "    </tr>\n",
       "    <tr>\n",
       "      <th>8</th>\n",
       "      <td>28800</td>\n",
       "      <td>9202.0</td>\n",
       "      <td>Unplanned MRR</td>\n",
       "      <td>Unplanned MTC SME MRR</td>\n",
       "    </tr>\n",
       "    <tr>\n",
       "      <th>9</th>\n",
       "      <td>28800</td>\n",
       "      <td>3704.0</td>\n",
       "      <td>Planned Track shifting</td>\n",
       "      <td>Shifting</td>\n",
       "    </tr>\n",
       "  </tbody>\n",
       "</table>\n",
       "</div>"
      ],
      "text/plain": [
       "    secs  stopcode         Group code text                     Cause code text\n",
       "0  28800    3301.0          Planned SME OH                           Over haul\n",
       "1  28800    3401.0      Planned VULCANSING        BWE Planned vulcanising work\n",
       "2  28800    3404.0      Planned VULCANSING  Conveyor planned vulcanising works\n",
       "3  28800     901.0            Common Other                        OB Rear load\n",
       "4  28800     721.0    Common Miscellaneous                 Machine on Stand-By\n",
       "5  28800    9102.0            Unplanned MM                Unplanned MTC SME MM\n",
       "6  28800    1012.0           BWE Operation           BWE Repostioning/movement\n",
       "7  28800    1865.0          BWE Electrical              Track Movement Trouble\n",
       "8  28800    9202.0           Unplanned MRR               Unplanned MTC SME MRR\n",
       "9  28800    3704.0  Planned Track shifting                            Shifting"
      ]
     },
     "execution_count": 86,
     "metadata": {},
     "output_type": "execute_result"
    }
   ],
   "source": [
    "mask = df['stopcode'].isin(stopcode_selection)\n",
    "df[mask].head(10)"
   ]
  },
  {
   "cell_type": "code",
   "execution_count": 87,
   "metadata": {},
   "outputs": [
    {
     "data": {
      "text/html": [
       "<div>\n",
       "<style scoped>\n",
       "    .dataframe tbody tr th:only-of-type {\n",
       "        vertical-align: middle;\n",
       "    }\n",
       "\n",
       "    .dataframe tbody tr th {\n",
       "        vertical-align: top;\n",
       "    }\n",
       "\n",
       "    .dataframe thead th {\n",
       "        text-align: right;\n",
       "    }\n",
       "</style>\n",
       "<table border=\"1\" class=\"dataframe\">\n",
       "  <thead>\n",
       "    <tr style=\"text-align: right;\">\n",
       "      <th></th>\n",
       "      <th>secs</th>\n",
       "      <th>stopcode</th>\n",
       "      <th>Group code text</th>\n",
       "      <th>Cause code text</th>\n",
       "    </tr>\n",
       "  </thead>\n",
       "  <tbody>\n",
       "    <tr>\n",
       "      <th>0</th>\n",
       "      <td>28800</td>\n",
       "      <td>3301.0</td>\n",
       "      <td>Planned SME OH</td>\n",
       "      <td>Over haul</td>\n",
       "    </tr>\n",
       "    <tr>\n",
       "      <th>1</th>\n",
       "      <td>28800</td>\n",
       "      <td>3401.0</td>\n",
       "      <td>Planned VULCANSING</td>\n",
       "      <td>BWE Planned vulcanising work</td>\n",
       "    </tr>\n",
       "    <tr>\n",
       "      <th>2</th>\n",
       "      <td>28800</td>\n",
       "      <td>3404.0</td>\n",
       "      <td>Planned VULCANSING</td>\n",
       "      <td>Conveyor planned vulcanising works</td>\n",
       "    </tr>\n",
       "    <tr>\n",
       "      <th>3</th>\n",
       "      <td>28800</td>\n",
       "      <td>901.0</td>\n",
       "      <td>Common Other</td>\n",
       "      <td>OB Rear load</td>\n",
       "    </tr>\n",
       "    <tr>\n",
       "      <th>4</th>\n",
       "      <td>28800</td>\n",
       "      <td>721.0</td>\n",
       "      <td>Common Miscellaneous</td>\n",
       "      <td>Machine on Stand-By</td>\n",
       "    </tr>\n",
       "    <tr>\n",
       "      <th>5</th>\n",
       "      <td>28800</td>\n",
       "      <td>9102.0</td>\n",
       "      <td>Unplanned MM</td>\n",
       "      <td>Unplanned MTC SME MM</td>\n",
       "    </tr>\n",
       "    <tr>\n",
       "      <th>6</th>\n",
       "      <td>28800</td>\n",
       "      <td>1012.0</td>\n",
       "      <td>BWE Operation</td>\n",
       "      <td>BWE Repostioning/movement</td>\n",
       "    </tr>\n",
       "    <tr>\n",
       "      <th>7</th>\n",
       "      <td>28800</td>\n",
       "      <td>1865.0</td>\n",
       "      <td>BWE Electrical</td>\n",
       "      <td>Track Movement Trouble</td>\n",
       "    </tr>\n",
       "    <tr>\n",
       "      <th>8</th>\n",
       "      <td>28800</td>\n",
       "      <td>9202.0</td>\n",
       "      <td>Unplanned MRR</td>\n",
       "      <td>Unplanned MTC SME MRR</td>\n",
       "    </tr>\n",
       "    <tr>\n",
       "      <th>9</th>\n",
       "      <td>28800</td>\n",
       "      <td>3704.0</td>\n",
       "      <td>Planned Track shifting</td>\n",
       "      <td>Shifting</td>\n",
       "    </tr>\n",
       "  </tbody>\n",
       "</table>\n",
       "</div>"
      ],
      "text/plain": [
       "    secs  stopcode         Group code text                     Cause code text\n",
       "0  28800    3301.0          Planned SME OH                           Over haul\n",
       "1  28800    3401.0      Planned VULCANSING        BWE Planned vulcanising work\n",
       "2  28800    3404.0      Planned VULCANSING  Conveyor planned vulcanising works\n",
       "3  28800     901.0            Common Other                        OB Rear load\n",
       "4  28800     721.0    Common Miscellaneous                 Machine on Stand-By\n",
       "5  28800    9102.0            Unplanned MM                Unplanned MTC SME MM\n",
       "6  28800    1012.0           BWE Operation           BWE Repostioning/movement\n",
       "7  28800    1865.0          BWE Electrical              Track Movement Trouble\n",
       "8  28800    9202.0           Unplanned MRR               Unplanned MTC SME MRR\n",
       "9  28800    3704.0  Planned Track shifting                            Shifting"
      ]
     },
     "execution_count": 87,
     "metadata": {},
     "output_type": "execute_result"
    }
   ],
   "source": [
    "mask = df['Group code text'].isin(Groupcodetext_selection)\n",
    "df[mask].head(10)"
   ]
  },
  {
   "cell_type": "code",
   "execution_count": 88,
   "metadata": {},
   "outputs": [
    {
     "data": {
      "text/html": [
       "<div>\n",
       "<style scoped>\n",
       "    .dataframe tbody tr th:only-of-type {\n",
       "        vertical-align: middle;\n",
       "    }\n",
       "\n",
       "    .dataframe tbody tr th {\n",
       "        vertical-align: top;\n",
       "    }\n",
       "\n",
       "    .dataframe thead th {\n",
       "        text-align: right;\n",
       "    }\n",
       "</style>\n",
       "<table border=\"1\" class=\"dataframe\">\n",
       "  <thead>\n",
       "    <tr style=\"text-align: right;\">\n",
       "      <th></th>\n",
       "      <th>secs</th>\n",
       "      <th>stopcode</th>\n",
       "      <th>Group code text</th>\n",
       "      <th>Cause code text</th>\n",
       "    </tr>\n",
       "  </thead>\n",
       "  <tbody>\n",
       "    <tr>\n",
       "      <th>0</th>\n",
       "      <td>28800</td>\n",
       "      <td>3301.0</td>\n",
       "      <td>Planned SME OH</td>\n",
       "      <td>Over haul</td>\n",
       "    </tr>\n",
       "    <tr>\n",
       "      <th>1</th>\n",
       "      <td>28800</td>\n",
       "      <td>3401.0</td>\n",
       "      <td>Planned VULCANSING</td>\n",
       "      <td>BWE Planned vulcanising work</td>\n",
       "    </tr>\n",
       "    <tr>\n",
       "      <th>2</th>\n",
       "      <td>28800</td>\n",
       "      <td>3404.0</td>\n",
       "      <td>Planned VULCANSING</td>\n",
       "      <td>Conveyor planned vulcanising works</td>\n",
       "    </tr>\n",
       "    <tr>\n",
       "      <th>3</th>\n",
       "      <td>28800</td>\n",
       "      <td>901.0</td>\n",
       "      <td>Common Other</td>\n",
       "      <td>OB Rear load</td>\n",
       "    </tr>\n",
       "    <tr>\n",
       "      <th>4</th>\n",
       "      <td>28800</td>\n",
       "      <td>721.0</td>\n",
       "      <td>Common Miscellaneous</td>\n",
       "      <td>Machine on Stand-By</td>\n",
       "    </tr>\n",
       "    <tr>\n",
       "      <th>5</th>\n",
       "      <td>28800</td>\n",
       "      <td>9102.0</td>\n",
       "      <td>Unplanned MM</td>\n",
       "      <td>Unplanned MTC SME MM</td>\n",
       "    </tr>\n",
       "    <tr>\n",
       "      <th>6</th>\n",
       "      <td>28800</td>\n",
       "      <td>1012.0</td>\n",
       "      <td>BWE Operation</td>\n",
       "      <td>BWE Repostioning/movement</td>\n",
       "    </tr>\n",
       "    <tr>\n",
       "      <th>7</th>\n",
       "      <td>28800</td>\n",
       "      <td>1865.0</td>\n",
       "      <td>BWE Electrical</td>\n",
       "      <td>Track Movement Trouble</td>\n",
       "    </tr>\n",
       "    <tr>\n",
       "      <th>8</th>\n",
       "      <td>28800</td>\n",
       "      <td>9202.0</td>\n",
       "      <td>Unplanned MRR</td>\n",
       "      <td>Unplanned MTC SME MRR</td>\n",
       "    </tr>\n",
       "    <tr>\n",
       "      <th>9</th>\n",
       "      <td>28800</td>\n",
       "      <td>3704.0</td>\n",
       "      <td>Planned Track shifting</td>\n",
       "      <td>Shifting</td>\n",
       "    </tr>\n",
       "  </tbody>\n",
       "</table>\n",
       "</div>"
      ],
      "text/plain": [
       "    secs  stopcode         Group code text                     Cause code text\n",
       "0  28800    3301.0          Planned SME OH                           Over haul\n",
       "1  28800    3401.0      Planned VULCANSING        BWE Planned vulcanising work\n",
       "2  28800    3404.0      Planned VULCANSING  Conveyor planned vulcanising works\n",
       "3  28800     901.0            Common Other                        OB Rear load\n",
       "4  28800     721.0    Common Miscellaneous                 Machine on Stand-By\n",
       "5  28800    9102.0            Unplanned MM                Unplanned MTC SME MM\n",
       "6  28800    1012.0           BWE Operation           BWE Repostioning/movement\n",
       "7  28800    1865.0          BWE Electrical              Track Movement Trouble\n",
       "8  28800    9202.0           Unplanned MRR               Unplanned MTC SME MRR\n",
       "9  28800    3704.0  Planned Track shifting                            Shifting"
      ]
     },
     "execution_count": 88,
     "metadata": {},
     "output_type": "execute_result"
    }
   ],
   "source": [
    "mask = df['Cause code text'].isin(Causecodetext_selection)\n",
    "df[mask].head(10)"
   ]
  },
  {
   "cell_type": "code",
   "execution_count": 90,
   "metadata": {},
   "outputs": [
    {
     "data": {
      "text/html": [
       "<div>\n",
       "<style scoped>\n",
       "    .dataframe tbody tr th:only-of-type {\n",
       "        vertical-align: middle;\n",
       "    }\n",
       "\n",
       "    .dataframe tbody tr th {\n",
       "        vertical-align: top;\n",
       "    }\n",
       "\n",
       "    .dataframe thead th {\n",
       "        text-align: right;\n",
       "    }\n",
       "</style>\n",
       "<table border=\"1\" class=\"dataframe\">\n",
       "  <thead>\n",
       "    <tr style=\"text-align: right;\">\n",
       "      <th></th>\n",
       "      <th>secs</th>\n",
       "      <th>stopcode</th>\n",
       "      <th>Group code text</th>\n",
       "      <th>Cause code text</th>\n",
       "    </tr>\n",
       "  </thead>\n",
       "  <tbody>\n",
       "    <tr>\n",
       "      <th>0</th>\n",
       "      <td>28800</td>\n",
       "      <td>3301.0</td>\n",
       "      <td>Planned SME OH</td>\n",
       "      <td>Over haul</td>\n",
       "    </tr>\n",
       "    <tr>\n",
       "      <th>1</th>\n",
       "      <td>28800</td>\n",
       "      <td>3401.0</td>\n",
       "      <td>Planned VULCANSING</td>\n",
       "      <td>BWE Planned vulcanising work</td>\n",
       "    </tr>\n",
       "    <tr>\n",
       "      <th>2</th>\n",
       "      <td>28800</td>\n",
       "      <td>3404.0</td>\n",
       "      <td>Planned VULCANSING</td>\n",
       "      <td>Conveyor planned vulcanising works</td>\n",
       "    </tr>\n",
       "    <tr>\n",
       "      <th>9</th>\n",
       "      <td>28800</td>\n",
       "      <td>3704.0</td>\n",
       "      <td>Planned Track shifting</td>\n",
       "      <td>Shifting</td>\n",
       "    </tr>\n",
       "    <tr>\n",
       "      <th>11</th>\n",
       "      <td>28800</td>\n",
       "      <td>5501.0</td>\n",
       "      <td>Tripper CMM</td>\n",
       "      <td>Others</td>\n",
       "    </tr>\n",
       "    <tr>\n",
       "      <th>12</th>\n",
       "      <td>28800</td>\n",
       "      <td>5404.0</td>\n",
       "      <td>Tripper Vulcanising</td>\n",
       "      <td>BTR clamp fixing</td>\n",
       "    </tr>\n",
       "    <tr>\n",
       "      <th>13</th>\n",
       "      <td>28800</td>\n",
       "      <td>3405.0</td>\n",
       "      <td>Planned VULCANSING</td>\n",
       "      <td>Tripper planned vulcanising works</td>\n",
       "    </tr>\n",
       "    <tr>\n",
       "      <th>17</th>\n",
       "      <td>28800</td>\n",
       "      <td>4401.0</td>\n",
       "      <td>Conveyor Vulcanising</td>\n",
       "      <td>Belt changing</td>\n",
       "    </tr>\n",
       "    <tr>\n",
       "      <th>21</th>\n",
       "      <td>28800</td>\n",
       "      <td>3702.0</td>\n",
       "      <td>Planned Track shifting</td>\n",
       "      <td>Extension</td>\n",
       "    </tr>\n",
       "    <tr>\n",
       "      <th>26</th>\n",
       "      <td>25200</td>\n",
       "      <td>4405.0</td>\n",
       "      <td>Conveyor Vulcanising</td>\n",
       "      <td>Center core cutting</td>\n",
       "    </tr>\n",
       "    <tr>\n",
       "      <th>27</th>\n",
       "      <td>25200</td>\n",
       "      <td>4501.0</td>\n",
       "      <td>Conveyor CMM</td>\n",
       "      <td>Line  roller changing/removal</td>\n",
       "    </tr>\n",
       "    <tr>\n",
       "      <th>28</th>\n",
       "      <td>25200</td>\n",
       "      <td>3002.0</td>\n",
       "      <td>Planned Operation</td>\n",
       "      <td>Daily maintenance</td>\n",
       "    </tr>\n",
       "    <tr>\n",
       "      <th>35</th>\n",
       "      <td>24300</td>\n",
       "      <td>4670.0</td>\n",
       "      <td>Conveyor CMRR</td>\n",
       "      <td>Others</td>\n",
       "    </tr>\n",
       "    <tr>\n",
       "      <th>39</th>\n",
       "      <td>24000</td>\n",
       "      <td>4001.0</td>\n",
       "      <td>Conveyor Operation</td>\n",
       "      <td>Lineout adjustment</td>\n",
       "    </tr>\n",
       "    <tr>\n",
       "      <th>40</th>\n",
       "      <td>23400</td>\n",
       "      <td>3499.0</td>\n",
       "      <td>Planned VULCANSING</td>\n",
       "      <td>Others</td>\n",
       "    </tr>\n",
       "    <tr>\n",
       "      <th>41</th>\n",
       "      <td>23400</td>\n",
       "      <td>3799.0</td>\n",
       "      <td>Planned Track shifting</td>\n",
       "      <td>Others</td>\n",
       "    </tr>\n",
       "    <tr>\n",
       "      <th>42</th>\n",
       "      <td>22800</td>\n",
       "      <td>4017.0</td>\n",
       "      <td>Conveyor Operation</td>\n",
       "      <td>Load clearing</td>\n",
       "    </tr>\n",
       "    <tr>\n",
       "      <th>44</th>\n",
       "      <td>22500</td>\n",
       "      <td>4419.0</td>\n",
       "      <td>Conveyor Vulcanising</td>\n",
       "      <td>Weak joint elimination</td>\n",
       "    </tr>\n",
       "    <tr>\n",
       "      <th>46</th>\n",
       "      <td>21600</td>\n",
       "      <td>4417.0</td>\n",
       "      <td>Conveyor Vulcanising</td>\n",
       "      <td>Waiting for vulcanising crew</td>\n",
       "    </tr>\n",
       "    <tr>\n",
       "      <th>57</th>\n",
       "      <td>18000</td>\n",
       "      <td>4412.0</td>\n",
       "      <td>Conveyor Vulcanising</td>\n",
       "      <td>Through cut repair work</td>\n",
       "    </tr>\n",
       "    <tr>\n",
       "      <th>58</th>\n",
       "      <td>18000</td>\n",
       "      <td>4522.0</td>\n",
       "      <td>Conveyor CMM</td>\n",
       "      <td>TE deck plates changing &amp; repair works</td>\n",
       "    </tr>\n",
       "    <tr>\n",
       "      <th>60</th>\n",
       "      <td>17700</td>\n",
       "      <td>4816.0</td>\n",
       "      <td>Conveyor Electrical</td>\n",
       "      <td>Electrical work/trouble.</td>\n",
       "    </tr>\n",
       "    <tr>\n",
       "      <th>63</th>\n",
       "      <td>16200</td>\n",
       "      <td>4602.0</td>\n",
       "      <td>Conveyor CMRR</td>\n",
       "      <td>DH Changing of belt drive gear box in primary LHS</td>\n",
       "    </tr>\n",
       "    <tr>\n",
       "      <th>64</th>\n",
       "      <td>16200</td>\n",
       "      <td>5499.0</td>\n",
       "      <td>Tripper Vulcanising</td>\n",
       "      <td>drum coating removal.</td>\n",
       "    </tr>\n",
       "    <tr>\n",
       "      <th>66</th>\n",
       "      <td>16200</td>\n",
       "      <td>4003.0</td>\n",
       "      <td>Conveyor Operation</td>\n",
       "      <td>Centre core cutting</td>\n",
       "    </tr>\n",
       "    <tr>\n",
       "      <th>67</th>\n",
       "      <td>15900</td>\n",
       "      <td>4406.0</td>\n",
       "      <td>Conveyor Vulcanising</td>\n",
       "      <td>Belt piece Cutting</td>\n",
       "    </tr>\n",
       "    <tr>\n",
       "      <th>70</th>\n",
       "      <td>15300</td>\n",
       "      <td>4532.0</td>\n",
       "      <td>Conveyor CMM</td>\n",
       "      <td>TE V-wiper chng./adj., V-wiper frame chng and ...</td>\n",
       "    </tr>\n",
       "    <tr>\n",
       "      <th>73</th>\n",
       "      <td>14400</td>\n",
       "      <td>4415.0</td>\n",
       "      <td>Conveyor Vulcanising</td>\n",
       "      <td>TE Cleaning due to non avilability of BTR clamps</td>\n",
       "    </tr>\n",
       "    <tr>\n",
       "      <th>78</th>\n",
       "      <td>14400</td>\n",
       "      <td>4418.0</td>\n",
       "      <td>Conveyor Vulcanising</td>\n",
       "      <td>Supply tripped due to Vulacnising electrical f...</td>\n",
       "    </tr>\n",
       "    <tr>\n",
       "      <th>79</th>\n",
       "      <td>14400</td>\n",
       "      <td>4628.0</td>\n",
       "      <td>Conveyor CMRR</td>\n",
       "      <td>SF - Belt tensioning and line out correction</td>\n",
       "    </tr>\n",
       "    <tr>\n",
       "      <th>81</th>\n",
       "      <td>13500</td>\n",
       "      <td>4599.0</td>\n",
       "      <td>Conveyor CMM</td>\n",
       "      <td>Others</td>\n",
       "    </tr>\n",
       "    <tr>\n",
       "      <th>82</th>\n",
       "      <td>13500</td>\n",
       "      <td>4099.0</td>\n",
       "      <td>Conveyor Operation</td>\n",
       "      <td>Other</td>\n",
       "    </tr>\n",
       "    <tr>\n",
       "      <th>89</th>\n",
       "      <td>12900</td>\n",
       "      <td>4016.0</td>\n",
       "      <td>Conveyor Operation</td>\n",
       "      <td>Conveyor stopped on overload</td>\n",
       "    </tr>\n",
       "    <tr>\n",
       "      <th>90</th>\n",
       "      <td>12600</td>\n",
       "      <td>4005.0</td>\n",
       "      <td>Conveyor Operation</td>\n",
       "      <td>TE cleaning</td>\n",
       "    </tr>\n",
       "    <tr>\n",
       "      <th>91</th>\n",
       "      <td>12600</td>\n",
       "      <td>5002.0</td>\n",
       "      <td>Tripper Operation</td>\n",
       "      <td>D/Belt hopper cleaning</td>\n",
       "    </tr>\n",
       "    <tr>\n",
       "      <th>92</th>\n",
       "      <td>12600</td>\n",
       "      <td>5405.0</td>\n",
       "      <td>Tripper Vulcanising</td>\n",
       "      <td>Others</td>\n",
       "    </tr>\n",
       "    <tr>\n",
       "      <th>93</th>\n",
       "      <td>12600</td>\n",
       "      <td>5403.0</td>\n",
       "      <td>Tripper Vulcanising</td>\n",
       "      <td>Core cutting</td>\n",
       "    </tr>\n",
       "    <tr>\n",
       "      <th>95</th>\n",
       "      <td>12000</td>\n",
       "      <td>4411.0</td>\n",
       "      <td>Conveyor Vulcanising</td>\n",
       "      <td>Belt edge Chambering work</td>\n",
       "    </tr>\n",
       "    <tr>\n",
       "      <th>98</th>\n",
       "      <td>11400</td>\n",
       "      <td>4407.0</td>\n",
       "      <td>Conveyor Vulcanising</td>\n",
       "      <td>Belt Inspection</td>\n",
       "    </tr>\n",
       "    <tr>\n",
       "      <th>103</th>\n",
       "      <td>10800</td>\n",
       "      <td>4025.0</td>\n",
       "      <td>Conveyor Operation</td>\n",
       "      <td>Roller fixing</td>\n",
       "    </tr>\n",
       "    <tr>\n",
       "      <th>106</th>\n",
       "      <td>9600</td>\n",
       "      <td>4899.0</td>\n",
       "      <td>Conveyor Electrical</td>\n",
       "      <td>Others</td>\n",
       "    </tr>\n",
       "    <tr>\n",
       "      <th>107</th>\n",
       "      <td>9600</td>\n",
       "      <td>4416.0</td>\n",
       "      <td>Conveyor Vulcanising</td>\n",
       "      <td>joint/belt inspection.</td>\n",
       "    </tr>\n",
       "    <tr>\n",
       "      <th>109</th>\n",
       "      <td>9000</td>\n",
       "      <td>4420.0</td>\n",
       "      <td>Conveyor Vulcanising</td>\n",
       "      <td>TE cleaning due to throughcut</td>\n",
       "    </tr>\n",
       "    <tr>\n",
       "      <th>110</th>\n",
       "      <td>9000</td>\n",
       "      <td>4802.0</td>\n",
       "      <td>Conveyor Electrical</td>\n",
       "      <td>Motor isolation/introduction.</td>\n",
       "    </tr>\n",
       "    <tr>\n",
       "      <th>112</th>\n",
       "      <td>7800</td>\n",
       "      <td>4699.0</td>\n",
       "      <td>Conveyor CMRR</td>\n",
       "      <td>Others</td>\n",
       "    </tr>\n",
       "    <tr>\n",
       "      <th>114</th>\n",
       "      <td>7500</td>\n",
       "      <td>4808.0</td>\n",
       "      <td>Conveyor Electrical</td>\n",
       "      <td>LT fault/tripped.</td>\n",
       "    </tr>\n",
       "    <tr>\n",
       "      <th>115</th>\n",
       "      <td>7200</td>\n",
       "      <td>5099.0</td>\n",
       "      <td>Tripper Operation</td>\n",
       "      <td>Others</td>\n",
       "    </tr>\n",
       "    <tr>\n",
       "      <th>122</th>\n",
       "      <td>5400</td>\n",
       "      <td>4548.0</td>\n",
       "      <td>Conveyor CMM</td>\n",
       "      <td>DH/TE  cross wiper changing / adjustment/ Removal</td>\n",
       "    </tr>\n",
       "    <tr>\n",
       "      <th>128</th>\n",
       "      <td>4500</td>\n",
       "      <td>4530.0</td>\n",
       "      <td>Conveyor CMM</td>\n",
       "      <td>TE RPG-wiper adjustment/changing/frame changin...</td>\n",
       "    </tr>\n",
       "    <tr>\n",
       "      <th>129</th>\n",
       "      <td>4200</td>\n",
       "      <td>4499.0</td>\n",
       "      <td>Conveyor Vulcanising</td>\n",
       "      <td>Others</td>\n",
       "    </tr>\n",
       "    <tr>\n",
       "      <th>130</th>\n",
       "      <td>3600</td>\n",
       "      <td>4528.0</td>\n",
       "      <td>Conveyor CMM</td>\n",
       "      <td>TE PR/INV. PR/ Changing/frame removal, adjustm...</td>\n",
       "    </tr>\n",
       "    <tr>\n",
       "      <th>131</th>\n",
       "      <td>3600</td>\n",
       "      <td>4837.0</td>\n",
       "      <td>Conveyor Electrical</td>\n",
       "      <td>bero seq.trouble/changing.</td>\n",
       "    </tr>\n",
       "    <tr>\n",
       "      <th>132</th>\n",
       "      <td>3600</td>\n",
       "      <td>4801.0</td>\n",
       "      <td>Conveyor Electrical</td>\n",
       "      <td>Motor inspn/trouble/work.</td>\n",
       "    </tr>\n",
       "    <tr>\n",
       "      <th>134</th>\n",
       "      <td>3600</td>\n",
       "      <td>4807.0</td>\n",
       "      <td>Conveyor Electrical</td>\n",
       "      <td>control (MCB) ckt.fault.</td>\n",
       "    </tr>\n",
       "    <tr>\n",
       "      <th>135</th>\n",
       "      <td>3600</td>\n",
       "      <td>4404.0</td>\n",
       "      <td>Conveyor Vulcanising</td>\n",
       "      <td>Hot VulcanisingJoint Work</td>\n",
       "    </tr>\n",
       "    <tr>\n",
       "      <th>137</th>\n",
       "      <td>2400</td>\n",
       "      <td>4409.0</td>\n",
       "      <td>Conveyor Vulcanising</td>\n",
       "      <td>BTR Clamp fixing</td>\n",
       "    </tr>\n",
       "  </tbody>\n",
       "</table>\n",
       "</div>"
      ],
      "text/plain": [
       "      secs  stopcode         Group code text  \\\n",
       "0    28800    3301.0          Planned SME OH   \n",
       "1    28800    3401.0      Planned VULCANSING   \n",
       "2    28800    3404.0      Planned VULCANSING   \n",
       "9    28800    3704.0  Planned Track shifting   \n",
       "11   28800    5501.0             Tripper CMM   \n",
       "12   28800    5404.0     Tripper Vulcanising   \n",
       "13   28800    3405.0      Planned VULCANSING   \n",
       "17   28800    4401.0    Conveyor Vulcanising   \n",
       "21   28800    3702.0  Planned Track shifting   \n",
       "26   25200    4405.0    Conveyor Vulcanising   \n",
       "27   25200    4501.0            Conveyor CMM   \n",
       "28   25200    3002.0       Planned Operation   \n",
       "35   24300    4670.0           Conveyor CMRR   \n",
       "39   24000    4001.0      Conveyor Operation   \n",
       "40   23400    3499.0      Planned VULCANSING   \n",
       "41   23400    3799.0  Planned Track shifting   \n",
       "42   22800    4017.0      Conveyor Operation   \n",
       "44   22500    4419.0    Conveyor Vulcanising   \n",
       "46   21600    4417.0    Conveyor Vulcanising   \n",
       "57   18000    4412.0    Conveyor Vulcanising   \n",
       "58   18000    4522.0            Conveyor CMM   \n",
       "60   17700    4816.0     Conveyor Electrical   \n",
       "63   16200    4602.0           Conveyor CMRR   \n",
       "64   16200    5499.0     Tripper Vulcanising   \n",
       "66   16200    4003.0      Conveyor Operation   \n",
       "67   15900    4406.0    Conveyor Vulcanising   \n",
       "70   15300    4532.0            Conveyor CMM   \n",
       "73   14400    4415.0    Conveyor Vulcanising   \n",
       "78   14400    4418.0    Conveyor Vulcanising   \n",
       "79   14400    4628.0           Conveyor CMRR   \n",
       "81   13500    4599.0            Conveyor CMM   \n",
       "82   13500    4099.0      Conveyor Operation   \n",
       "89   12900    4016.0      Conveyor Operation   \n",
       "90   12600    4005.0      Conveyor Operation   \n",
       "91   12600    5002.0       Tripper Operation   \n",
       "92   12600    5405.0     Tripper Vulcanising   \n",
       "93   12600    5403.0     Tripper Vulcanising   \n",
       "95   12000    4411.0    Conveyor Vulcanising   \n",
       "98   11400    4407.0    Conveyor Vulcanising   \n",
       "103  10800    4025.0      Conveyor Operation   \n",
       "106   9600    4899.0     Conveyor Electrical   \n",
       "107   9600    4416.0    Conveyor Vulcanising   \n",
       "109   9000    4420.0    Conveyor Vulcanising   \n",
       "110   9000    4802.0     Conveyor Electrical   \n",
       "112   7800    4699.0           Conveyor CMRR   \n",
       "114   7500    4808.0     Conveyor Electrical   \n",
       "115   7200    5099.0       Tripper Operation   \n",
       "122   5400    4548.0            Conveyor CMM   \n",
       "128   4500    4530.0            Conveyor CMM   \n",
       "129   4200    4499.0    Conveyor Vulcanising   \n",
       "130   3600    4528.0            Conveyor CMM   \n",
       "131   3600    4837.0     Conveyor Electrical   \n",
       "132   3600    4801.0     Conveyor Electrical   \n",
       "134   3600    4807.0     Conveyor Electrical   \n",
       "135   3600    4404.0    Conveyor Vulcanising   \n",
       "137   2400    4409.0    Conveyor Vulcanising   \n",
       "\n",
       "                                       Cause code text  \n",
       "0                                            Over haul  \n",
       "1                         BWE Planned vulcanising work  \n",
       "2                   Conveyor planned vulcanising works  \n",
       "9                                             Shifting  \n",
       "11                                              Others  \n",
       "12                                    BTR clamp fixing  \n",
       "13                   Tripper planned vulcanising works  \n",
       "17                                       Belt changing  \n",
       "21                                           Extension  \n",
       "26                                 Center core cutting  \n",
       "27                       Line  roller changing/removal  \n",
       "28                                   Daily maintenance  \n",
       "35                                              Others  \n",
       "39                                  Lineout adjustment  \n",
       "40                                              Others  \n",
       "41                                              Others  \n",
       "42                                       Load clearing  \n",
       "44                              Weak joint elimination  \n",
       "46                        Waiting for vulcanising crew  \n",
       "57                             Through cut repair work  \n",
       "58              TE deck plates changing & repair works  \n",
       "60                            Electrical work/trouble.  \n",
       "63   DH Changing of belt drive gear box in primary LHS  \n",
       "64                               drum coating removal.  \n",
       "66                                 Centre core cutting  \n",
       "67                                  Belt piece Cutting  \n",
       "70   TE V-wiper chng./adj., V-wiper frame chng and ...  \n",
       "73    TE Cleaning due to non avilability of BTR clamps  \n",
       "78   Supply tripped due to Vulacnising electrical f...  \n",
       "79        SF - Belt tensioning and line out correction  \n",
       "81                                              Others  \n",
       "82                                               Other  \n",
       "89                        Conveyor stopped on overload  \n",
       "90                                         TE cleaning  \n",
       "91                              D/Belt hopper cleaning  \n",
       "92                                              Others  \n",
       "93                                        Core cutting  \n",
       "95                           Belt edge Chambering work  \n",
       "98                                     Belt Inspection  \n",
       "103                                      Roller fixing  \n",
       "106                                             Others  \n",
       "107                             joint/belt inspection.  \n",
       "109                      TE cleaning due to throughcut  \n",
       "110                      Motor isolation/introduction.  \n",
       "112                                             Others  \n",
       "114                                  LT fault/tripped.  \n",
       "115                                             Others  \n",
       "122  DH/TE  cross wiper changing / adjustment/ Removal  \n",
       "128  TE RPG-wiper adjustment/changing/frame changin...  \n",
       "129                                             Others  \n",
       "130  TE PR/INV. PR/ Changing/frame removal, adjustm...  \n",
       "131                         bero seq.trouble/changing.  \n",
       "132                          Motor inspn/trouble/work.  \n",
       "134                           control (MCB) ckt.fault.  \n",
       "135                          Hot VulcanisingJoint Work  \n",
       "137                                   BTR Clamp fixing  "
      ]
     },
     "execution_count": 90,
     "metadata": {},
     "output_type": "execute_result"
    }
   ],
   "source": [
    "stopcode_selection = (3000,6000)\n",
    "mask = df['stopcode'].between(*stopcode_selection)\n",
    "df[mask]"
   ]
  },
  {
   "cell_type": "code",
   "execution_count": 91,
   "metadata": {},
   "outputs": [
    {
     "data": {
      "text/html": [
       "<div>\n",
       "<style scoped>\n",
       "    .dataframe tbody tr th:only-of-type {\n",
       "        vertical-align: middle;\n",
       "    }\n",
       "\n",
       "    .dataframe tbody tr th {\n",
       "        vertical-align: top;\n",
       "    }\n",
       "\n",
       "    .dataframe thead th {\n",
       "        text-align: right;\n",
       "    }\n",
       "</style>\n",
       "<table border=\"1\" class=\"dataframe\">\n",
       "  <thead>\n",
       "    <tr style=\"text-align: right;\">\n",
       "      <th></th>\n",
       "      <th>secs</th>\n",
       "    </tr>\n",
       "    <tr>\n",
       "      <th>Group code text</th>\n",
       "      <th></th>\n",
       "    </tr>\n",
       "  </thead>\n",
       "  <tbody>\n",
       "    <tr>\n",
       "      <th>BWE Electrical</th>\n",
       "      <td>9</td>\n",
       "    </tr>\n",
       "    <tr>\n",
       "      <th>BWE MM</th>\n",
       "      <td>8</td>\n",
       "    </tr>\n",
       "    <tr>\n",
       "      <th>BWE MRR</th>\n",
       "      <td>3</td>\n",
       "    </tr>\n",
       "    <tr>\n",
       "      <th>BWE Operation</th>\n",
       "      <td>8</td>\n",
       "    </tr>\n",
       "    <tr>\n",
       "      <th>BWE VULCANSING</th>\n",
       "      <td>2</td>\n",
       "    </tr>\n",
       "    <tr>\n",
       "      <th>Common Electrical</th>\n",
       "      <td>3</td>\n",
       "    </tr>\n",
       "    <tr>\n",
       "      <th>Common Miscellaneous</th>\n",
       "      <td>13</td>\n",
       "    </tr>\n",
       "    <tr>\n",
       "      <th>Common Operation</th>\n",
       "      <td>3</td>\n",
       "    </tr>\n",
       "    <tr>\n",
       "      <th>Common Other</th>\n",
       "      <td>2</td>\n",
       "    </tr>\n",
       "    <tr>\n",
       "      <th>Conveyor CMM</th>\n",
       "      <td>7</td>\n",
       "    </tr>\n",
       "    <tr>\n",
       "      <th>Conveyor CMRR</th>\n",
       "      <td>4</td>\n",
       "    </tr>\n",
       "    <tr>\n",
       "      <th>Conveyor Electrical</th>\n",
       "      <td>7</td>\n",
       "    </tr>\n",
       "    <tr>\n",
       "      <th>Conveyor Operation</th>\n",
       "      <td>8</td>\n",
       "    </tr>\n",
       "    <tr>\n",
       "      <th>Conveyor Vulcanising</th>\n",
       "      <td>15</td>\n",
       "    </tr>\n",
       "    <tr>\n",
       "      <th>MTC Electrical</th>\n",
       "      <td>4</td>\n",
       "    </tr>\n",
       "  </tbody>\n",
       "</table>\n",
       "</div>"
      ],
      "text/plain": [
       "                      secs\n",
       "Group code text           \n",
       "BWE Electrical           9\n",
       "BWE MM                   8\n",
       "BWE MRR                  3\n",
       "BWE Operation            8\n",
       "BWE VULCANSING           2\n",
       "Common Electrical        3\n",
       "Common Miscellaneous    13\n",
       "Common Operation         3\n",
       "Common Other             2\n",
       "Conveyor CMM             7\n",
       "Conveyor CMRR            4\n",
       "Conveyor Electrical      7\n",
       "Conveyor Operation       8\n",
       "Conveyor Vulcanising    15\n",
       "MTC Electrical           4"
      ]
     },
     "execution_count": 91,
     "metadata": {},
     "output_type": "execute_result"
    }
   ],
   "source": [
    "df_grouped = df.groupby(by=['Group code text']).count()[['secs']]\n",
    "df_grouped.head(15)"
   ]
  },
  {
   "cell_type": "code",
   "execution_count": 93,
   "metadata": {},
   "outputs": [
    {
     "data": {
      "text/html": [
       "<div>\n",
       "<style scoped>\n",
       "    .dataframe tbody tr th:only-of-type {\n",
       "        vertical-align: middle;\n",
       "    }\n",
       "\n",
       "    .dataframe tbody tr th {\n",
       "        vertical-align: top;\n",
       "    }\n",
       "\n",
       "    .dataframe thead th {\n",
       "        text-align: right;\n",
       "    }\n",
       "</style>\n",
       "<table border=\"1\" class=\"dataframe\">\n",
       "  <thead>\n",
       "    <tr style=\"text-align: right;\">\n",
       "      <th></th>\n",
       "      <th>secs</th>\n",
       "    </tr>\n",
       "    <tr>\n",
       "      <th>Cause code text</th>\n",
       "      <th></th>\n",
       "    </tr>\n",
       "  </thead>\n",
       "  <tbody>\n",
       "    <tr>\n",
       "      <th>BOTTOM ROLLER CHANGING</th>\n",
       "      <td>2</td>\n",
       "    </tr>\n",
       "    <tr>\n",
       "      <th>BTR Clamp fixing</th>\n",
       "      <td>2</td>\n",
       "    </tr>\n",
       "    <tr>\n",
       "      <th>BTR clamp fixing</th>\n",
       "      <td>2</td>\n",
       "    </tr>\n",
       "    <tr>\n",
       "      <th>BWE Planned vulcanising work</th>\n",
       "      <td>1</td>\n",
       "    </tr>\n",
       "    <tr>\n",
       "      <th>BWE Repostioning/movement</th>\n",
       "      <td>1</td>\n",
       "    </tr>\n",
       "    <tr>\n",
       "      <th>BWE Track Area Preparation</th>\n",
       "      <td>1</td>\n",
       "    </tr>\n",
       "    <tr>\n",
       "      <th>Belt Inspection</th>\n",
       "      <td>1</td>\n",
       "    </tr>\n",
       "    <tr>\n",
       "      <th>Belt changing</th>\n",
       "      <td>1</td>\n",
       "    </tr>\n",
       "    <tr>\n",
       "      <th>Belt edge Chambering work</th>\n",
       "      <td>1</td>\n",
       "    </tr>\n",
       "    <tr>\n",
       "      <th>Belt piece Cutting</th>\n",
       "      <td>1</td>\n",
       "    </tr>\n",
       "    <tr>\n",
       "      <th>Belt snapped due to overtension</th>\n",
       "      <td>1</td>\n",
       "    </tr>\n",
       "    <tr>\n",
       "      <th>Belt starting trouble</th>\n",
       "      <td>1</td>\n",
       "    </tr>\n",
       "    <tr>\n",
       "      <th>Bucket wheel unplanned SME MM</th>\n",
       "      <td>1</td>\n",
       "    </tr>\n",
       "    <tr>\n",
       "      <th>Bucketwheel forwarding work</th>\n",
       "      <td>1</td>\n",
       "    </tr>\n",
       "    <tr>\n",
       "      <th>Bucketwheel reversal work</th>\n",
       "      <td>1</td>\n",
       "    </tr>\n",
       "  </tbody>\n",
       "</table>\n",
       "</div>"
      ],
      "text/plain": [
       "                                 secs\n",
       "Cause code text                      \n",
       "BOTTOM ROLLER CHANGING              2\n",
       "BTR Clamp fixing                    2\n",
       "BTR clamp fixing                    2\n",
       "BWE Planned vulcanising work        1\n",
       "BWE Repostioning/movement           1\n",
       "BWE Track Area Preparation          1\n",
       "Belt Inspection                     1\n",
       "Belt changing                       1\n",
       "Belt edge Chambering work           1\n",
       "Belt piece Cutting                  1\n",
       "Belt snapped due to overtension     1\n",
       "Belt starting trouble               1\n",
       "Bucket wheel unplanned SME MM       1\n",
       "Bucketwheel forwarding work         1\n",
       "Bucketwheel reversal work           1"
      ]
     },
     "execution_count": 93,
     "metadata": {},
     "output_type": "execute_result"
    }
   ],
   "source": [
    "df_grouped = df.groupby(by=['Cause code text']).count()[['secs']]\n",
    "df_grouped.head(15)"
   ]
  },
  {
   "cell_type": "code",
   "execution_count": 95,
   "metadata": {},
   "outputs": [
    {
     "data": {
      "text/html": [
       "<div>\n",
       "<style scoped>\n",
       "    .dataframe tbody tr th:only-of-type {\n",
       "        vertical-align: middle;\n",
       "    }\n",
       "\n",
       "    .dataframe tbody tr th {\n",
       "        vertical-align: top;\n",
       "    }\n",
       "\n",
       "    .dataframe thead th {\n",
       "        text-align: right;\n",
       "    }\n",
       "</style>\n",
       "<table border=\"1\" class=\"dataframe\">\n",
       "  <thead>\n",
       "    <tr style=\"text-align: right;\">\n",
       "      <th></th>\n",
       "      <th>index</th>\n",
       "      <th>Cause code text</th>\n",
       "      <th>Hours</th>\n",
       "    </tr>\n",
       "  </thead>\n",
       "  <tbody>\n",
       "    <tr>\n",
       "      <th>0</th>\n",
       "      <td>0</td>\n",
       "      <td>BOTTOM ROLLER CHANGING</td>\n",
       "      <td>2</td>\n",
       "    </tr>\n",
       "    <tr>\n",
       "      <th>1</th>\n",
       "      <td>1</td>\n",
       "      <td>BTR Clamp fixing</td>\n",
       "      <td>2</td>\n",
       "    </tr>\n",
       "    <tr>\n",
       "      <th>2</th>\n",
       "      <td>2</td>\n",
       "      <td>BTR clamp fixing</td>\n",
       "      <td>2</td>\n",
       "    </tr>\n",
       "    <tr>\n",
       "      <th>3</th>\n",
       "      <td>3</td>\n",
       "      <td>BWE Planned vulcanising work</td>\n",
       "      <td>1</td>\n",
       "    </tr>\n",
       "    <tr>\n",
       "      <th>4</th>\n",
       "      <td>4</td>\n",
       "      <td>BWE Repostioning/movement</td>\n",
       "      <td>1</td>\n",
       "    </tr>\n",
       "    <tr>\n",
       "      <th>5</th>\n",
       "      <td>5</td>\n",
       "      <td>BWE Track Area Preparation</td>\n",
       "      <td>1</td>\n",
       "    </tr>\n",
       "    <tr>\n",
       "      <th>6</th>\n",
       "      <td>6</td>\n",
       "      <td>Belt Inspection</td>\n",
       "      <td>1</td>\n",
       "    </tr>\n",
       "    <tr>\n",
       "      <th>7</th>\n",
       "      <td>7</td>\n",
       "      <td>Belt changing</td>\n",
       "      <td>1</td>\n",
       "    </tr>\n",
       "    <tr>\n",
       "      <th>8</th>\n",
       "      <td>8</td>\n",
       "      <td>Belt edge Chambering work</td>\n",
       "      <td>1</td>\n",
       "    </tr>\n",
       "    <tr>\n",
       "      <th>9</th>\n",
       "      <td>9</td>\n",
       "      <td>Belt piece Cutting</td>\n",
       "      <td>1</td>\n",
       "    </tr>\n",
       "    <tr>\n",
       "      <th>10</th>\n",
       "      <td>10</td>\n",
       "      <td>Belt snapped due to overtension</td>\n",
       "      <td>1</td>\n",
       "    </tr>\n",
       "    <tr>\n",
       "      <th>11</th>\n",
       "      <td>11</td>\n",
       "      <td>Belt starting trouble</td>\n",
       "      <td>1</td>\n",
       "    </tr>\n",
       "    <tr>\n",
       "      <th>12</th>\n",
       "      <td>12</td>\n",
       "      <td>Bucket wheel unplanned SME MM</td>\n",
       "      <td>1</td>\n",
       "    </tr>\n",
       "    <tr>\n",
       "      <th>13</th>\n",
       "      <td>13</td>\n",
       "      <td>Bucketwheel forwarding work</td>\n",
       "      <td>1</td>\n",
       "    </tr>\n",
       "    <tr>\n",
       "      <th>14</th>\n",
       "      <td>14</td>\n",
       "      <td>Bucketwheel reversal work</td>\n",
       "      <td>1</td>\n",
       "    </tr>\n",
       "  </tbody>\n",
       "</table>\n",
       "</div>"
      ],
      "text/plain": [
       "    index                  Cause code text  Hours\n",
       "0       0           BOTTOM ROLLER CHANGING      2\n",
       "1       1                 BTR Clamp fixing      2\n",
       "2       2                 BTR clamp fixing      2\n",
       "3       3     BWE Planned vulcanising work      1\n",
       "4       4        BWE Repostioning/movement      1\n",
       "5       5       BWE Track Area Preparation      1\n",
       "6       6                  Belt Inspection      1\n",
       "7       7                    Belt changing      1\n",
       "8       8        Belt edge Chambering work      1\n",
       "9       9               Belt piece Cutting      1\n",
       "10     10  Belt snapped due to overtension      1\n",
       "11     11            Belt starting trouble      1\n",
       "12     12    Bucket wheel unplanned SME MM      1\n",
       "13     13      Bucketwheel forwarding work      1\n",
       "14     14        Bucketwheel reversal work      1"
      ]
     },
     "execution_count": 95,
     "metadata": {},
     "output_type": "execute_result"
    }
   ],
   "source": [
    "df_grouped = df_grouped.rename(columns={'secs': 'Hours'})\n",
    "df_grouped = df_grouped.reset_index().head(15)\n",
    "df_grouped"
   ]
  },
  {
   "cell_type": "code",
   "execution_count": 96,
   "metadata": {},
   "outputs": [],
   "source": [
    "bar_chart = px.bar(df_grouped, \n",
    "             x='Cause code text', \n",
    "             y='Hours',\n",
    "             color_discrete_sequence =['#F63366']*len(df_grouped),\n",
    "             template= 'plotly_white')"
   ]
  },
  {
   "cell_type": "code",
   "execution_count": 97,
   "metadata": {},
   "outputs": [
    {
     "data": {
      "application/vnd.plotly.v1+json": {
       "config": {
        "plotlyServerURL": "https://plot.ly"
       },
       "data": [
        {
         "alignmentgroup": "True",
         "hovertemplate": "Cause code text=%{x}<br>Hours=%{y}<extra></extra>",
         "legendgroup": "",
         "marker": {
          "color": "#F63366",
          "pattern": {
           "shape": ""
          }
         },
         "name": "",
         "offsetgroup": "",
         "orientation": "v",
         "showlegend": false,
         "textposition": "auto",
         "type": "bar",
         "x": [
          "BOTTOM ROLLER CHANGING",
          "BTR Clamp fixing",
          "BTR clamp fixing",
          "BWE Planned vulcanising work",
          "BWE Repostioning/movement",
          "BWE Track Area Preparation",
          "Belt Inspection",
          "Belt changing",
          "Belt edge Chambering work",
          "Belt piece Cutting",
          "Belt snapped due to overtension",
          "Belt starting trouble",
          "Bucket wheel unplanned SME MM",
          "Bucketwheel forwarding work",
          "Bucketwheel reversal work"
         ],
         "xaxis": "x",
         "y": [
          2,
          2,
          2,
          1,
          1,
          1,
          1,
          1,
          1,
          1,
          1,
          1,
          1,
          1,
          1
         ],
         "yaxis": "y"
        }
       ],
       "layout": {
        "barmode": "relative",
        "legend": {
         "tracegroupgap": 0
        },
        "margin": {
         "t": 60
        },
        "template": {
         "data": {
          "bar": [
           {
            "error_x": {
             "color": "#2a3f5f"
            },
            "error_y": {
             "color": "#2a3f5f"
            },
            "marker": {
             "line": {
              "color": "white",
              "width": 0.5
             },
             "pattern": {
              "fillmode": "overlay",
              "size": 10,
              "solidity": 0.2
             }
            },
            "type": "bar"
           }
          ],
          "barpolar": [
           {
            "marker": {
             "line": {
              "color": "white",
              "width": 0.5
             },
             "pattern": {
              "fillmode": "overlay",
              "size": 10,
              "solidity": 0.2
             }
            },
            "type": "barpolar"
           }
          ],
          "carpet": [
           {
            "aaxis": {
             "endlinecolor": "#2a3f5f",
             "gridcolor": "#C8D4E3",
             "linecolor": "#C8D4E3",
             "minorgridcolor": "#C8D4E3",
             "startlinecolor": "#2a3f5f"
            },
            "baxis": {
             "endlinecolor": "#2a3f5f",
             "gridcolor": "#C8D4E3",
             "linecolor": "#C8D4E3",
             "minorgridcolor": "#C8D4E3",
             "startlinecolor": "#2a3f5f"
            },
            "type": "carpet"
           }
          ],
          "choropleth": [
           {
            "colorbar": {
             "outlinewidth": 0,
             "ticks": ""
            },
            "type": "choropleth"
           }
          ],
          "contour": [
           {
            "colorbar": {
             "outlinewidth": 0,
             "ticks": ""
            },
            "colorscale": [
             [
              0,
              "#0d0887"
             ],
             [
              0.1111111111111111,
              "#46039f"
             ],
             [
              0.2222222222222222,
              "#7201a8"
             ],
             [
              0.3333333333333333,
              "#9c179e"
             ],
             [
              0.4444444444444444,
              "#bd3786"
             ],
             [
              0.5555555555555556,
              "#d8576b"
             ],
             [
              0.6666666666666666,
              "#ed7953"
             ],
             [
              0.7777777777777778,
              "#fb9f3a"
             ],
             [
              0.8888888888888888,
              "#fdca26"
             ],
             [
              1,
              "#f0f921"
             ]
            ],
            "type": "contour"
           }
          ],
          "contourcarpet": [
           {
            "colorbar": {
             "outlinewidth": 0,
             "ticks": ""
            },
            "type": "contourcarpet"
           }
          ],
          "heatmap": [
           {
            "colorbar": {
             "outlinewidth": 0,
             "ticks": ""
            },
            "colorscale": [
             [
              0,
              "#0d0887"
             ],
             [
              0.1111111111111111,
              "#46039f"
             ],
             [
              0.2222222222222222,
              "#7201a8"
             ],
             [
              0.3333333333333333,
              "#9c179e"
             ],
             [
              0.4444444444444444,
              "#bd3786"
             ],
             [
              0.5555555555555556,
              "#d8576b"
             ],
             [
              0.6666666666666666,
              "#ed7953"
             ],
             [
              0.7777777777777778,
              "#fb9f3a"
             ],
             [
              0.8888888888888888,
              "#fdca26"
             ],
             [
              1,
              "#f0f921"
             ]
            ],
            "type": "heatmap"
           }
          ],
          "heatmapgl": [
           {
            "colorbar": {
             "outlinewidth": 0,
             "ticks": ""
            },
            "colorscale": [
             [
              0,
              "#0d0887"
             ],
             [
              0.1111111111111111,
              "#46039f"
             ],
             [
              0.2222222222222222,
              "#7201a8"
             ],
             [
              0.3333333333333333,
              "#9c179e"
             ],
             [
              0.4444444444444444,
              "#bd3786"
             ],
             [
              0.5555555555555556,
              "#d8576b"
             ],
             [
              0.6666666666666666,
              "#ed7953"
             ],
             [
              0.7777777777777778,
              "#fb9f3a"
             ],
             [
              0.8888888888888888,
              "#fdca26"
             ],
             [
              1,
              "#f0f921"
             ]
            ],
            "type": "heatmapgl"
           }
          ],
          "histogram": [
           {
            "marker": {
             "pattern": {
              "fillmode": "overlay",
              "size": 10,
              "solidity": 0.2
             }
            },
            "type": "histogram"
           }
          ],
          "histogram2d": [
           {
            "colorbar": {
             "outlinewidth": 0,
             "ticks": ""
            },
            "colorscale": [
             [
              0,
              "#0d0887"
             ],
             [
              0.1111111111111111,
              "#46039f"
             ],
             [
              0.2222222222222222,
              "#7201a8"
             ],
             [
              0.3333333333333333,
              "#9c179e"
             ],
             [
              0.4444444444444444,
              "#bd3786"
             ],
             [
              0.5555555555555556,
              "#d8576b"
             ],
             [
              0.6666666666666666,
              "#ed7953"
             ],
             [
              0.7777777777777778,
              "#fb9f3a"
             ],
             [
              0.8888888888888888,
              "#fdca26"
             ],
             [
              1,
              "#f0f921"
             ]
            ],
            "type": "histogram2d"
           }
          ],
          "histogram2dcontour": [
           {
            "colorbar": {
             "outlinewidth": 0,
             "ticks": ""
            },
            "colorscale": [
             [
              0,
              "#0d0887"
             ],
             [
              0.1111111111111111,
              "#46039f"
             ],
             [
              0.2222222222222222,
              "#7201a8"
             ],
             [
              0.3333333333333333,
              "#9c179e"
             ],
             [
              0.4444444444444444,
              "#bd3786"
             ],
             [
              0.5555555555555556,
              "#d8576b"
             ],
             [
              0.6666666666666666,
              "#ed7953"
             ],
             [
              0.7777777777777778,
              "#fb9f3a"
             ],
             [
              0.8888888888888888,
              "#fdca26"
             ],
             [
              1,
              "#f0f921"
             ]
            ],
            "type": "histogram2dcontour"
           }
          ],
          "mesh3d": [
           {
            "colorbar": {
             "outlinewidth": 0,
             "ticks": ""
            },
            "type": "mesh3d"
           }
          ],
          "parcoords": [
           {
            "line": {
             "colorbar": {
              "outlinewidth": 0,
              "ticks": ""
             }
            },
            "type": "parcoords"
           }
          ],
          "pie": [
           {
            "automargin": true,
            "type": "pie"
           }
          ],
          "scatter": [
           {
            "fillpattern": {
             "fillmode": "overlay",
             "size": 10,
             "solidity": 0.2
            },
            "type": "scatter"
           }
          ],
          "scatter3d": [
           {
            "line": {
             "colorbar": {
              "outlinewidth": 0,
              "ticks": ""
             }
            },
            "marker": {
             "colorbar": {
              "outlinewidth": 0,
              "ticks": ""
             }
            },
            "type": "scatter3d"
           }
          ],
          "scattercarpet": [
           {
            "marker": {
             "colorbar": {
              "outlinewidth": 0,
              "ticks": ""
             }
            },
            "type": "scattercarpet"
           }
          ],
          "scattergeo": [
           {
            "marker": {
             "colorbar": {
              "outlinewidth": 0,
              "ticks": ""
             }
            },
            "type": "scattergeo"
           }
          ],
          "scattergl": [
           {
            "marker": {
             "colorbar": {
              "outlinewidth": 0,
              "ticks": ""
             }
            },
            "type": "scattergl"
           }
          ],
          "scattermapbox": [
           {
            "marker": {
             "colorbar": {
              "outlinewidth": 0,
              "ticks": ""
             }
            },
            "type": "scattermapbox"
           }
          ],
          "scatterpolar": [
           {
            "marker": {
             "colorbar": {
              "outlinewidth": 0,
              "ticks": ""
             }
            },
            "type": "scatterpolar"
           }
          ],
          "scatterpolargl": [
           {
            "marker": {
             "colorbar": {
              "outlinewidth": 0,
              "ticks": ""
             }
            },
            "type": "scatterpolargl"
           }
          ],
          "scatterternary": [
           {
            "marker": {
             "colorbar": {
              "outlinewidth": 0,
              "ticks": ""
             }
            },
            "type": "scatterternary"
           }
          ],
          "surface": [
           {
            "colorbar": {
             "outlinewidth": 0,
             "ticks": ""
            },
            "colorscale": [
             [
              0,
              "#0d0887"
             ],
             [
              0.1111111111111111,
              "#46039f"
             ],
             [
              0.2222222222222222,
              "#7201a8"
             ],
             [
              0.3333333333333333,
              "#9c179e"
             ],
             [
              0.4444444444444444,
              "#bd3786"
             ],
             [
              0.5555555555555556,
              "#d8576b"
             ],
             [
              0.6666666666666666,
              "#ed7953"
             ],
             [
              0.7777777777777778,
              "#fb9f3a"
             ],
             [
              0.8888888888888888,
              "#fdca26"
             ],
             [
              1,
              "#f0f921"
             ]
            ],
            "type": "surface"
           }
          ],
          "table": [
           {
            "cells": {
             "fill": {
              "color": "#EBF0F8"
             },
             "line": {
              "color": "white"
             }
            },
            "header": {
             "fill": {
              "color": "#C8D4E3"
             },
             "line": {
              "color": "white"
             }
            },
            "type": "table"
           }
          ]
         },
         "layout": {
          "annotationdefaults": {
           "arrowcolor": "#2a3f5f",
           "arrowhead": 0,
           "arrowwidth": 1
          },
          "autotypenumbers": "strict",
          "coloraxis": {
           "colorbar": {
            "outlinewidth": 0,
            "ticks": ""
           }
          },
          "colorscale": {
           "diverging": [
            [
             0,
             "#8e0152"
            ],
            [
             0.1,
             "#c51b7d"
            ],
            [
             0.2,
             "#de77ae"
            ],
            [
             0.3,
             "#f1b6da"
            ],
            [
             0.4,
             "#fde0ef"
            ],
            [
             0.5,
             "#f7f7f7"
            ],
            [
             0.6,
             "#e6f5d0"
            ],
            [
             0.7,
             "#b8e186"
            ],
            [
             0.8,
             "#7fbc41"
            ],
            [
             0.9,
             "#4d9221"
            ],
            [
             1,
             "#276419"
            ]
           ],
           "sequential": [
            [
             0,
             "#0d0887"
            ],
            [
             0.1111111111111111,
             "#46039f"
            ],
            [
             0.2222222222222222,
             "#7201a8"
            ],
            [
             0.3333333333333333,
             "#9c179e"
            ],
            [
             0.4444444444444444,
             "#bd3786"
            ],
            [
             0.5555555555555556,
             "#d8576b"
            ],
            [
             0.6666666666666666,
             "#ed7953"
            ],
            [
             0.7777777777777778,
             "#fb9f3a"
            ],
            [
             0.8888888888888888,
             "#fdca26"
            ],
            [
             1,
             "#f0f921"
            ]
           ],
           "sequentialminus": [
            [
             0,
             "#0d0887"
            ],
            [
             0.1111111111111111,
             "#46039f"
            ],
            [
             0.2222222222222222,
             "#7201a8"
            ],
            [
             0.3333333333333333,
             "#9c179e"
            ],
            [
             0.4444444444444444,
             "#bd3786"
            ],
            [
             0.5555555555555556,
             "#d8576b"
            ],
            [
             0.6666666666666666,
             "#ed7953"
            ],
            [
             0.7777777777777778,
             "#fb9f3a"
            ],
            [
             0.8888888888888888,
             "#fdca26"
            ],
            [
             1,
             "#f0f921"
            ]
           ]
          },
          "colorway": [
           "#636efa",
           "#EF553B",
           "#00cc96",
           "#ab63fa",
           "#FFA15A",
           "#19d3f3",
           "#FF6692",
           "#B6E880",
           "#FF97FF",
           "#FECB52"
          ],
          "font": {
           "color": "#2a3f5f"
          },
          "geo": {
           "bgcolor": "white",
           "lakecolor": "white",
           "landcolor": "white",
           "showlakes": true,
           "showland": true,
           "subunitcolor": "#C8D4E3"
          },
          "hoverlabel": {
           "align": "left"
          },
          "hovermode": "closest",
          "mapbox": {
           "style": "light"
          },
          "paper_bgcolor": "white",
          "plot_bgcolor": "white",
          "polar": {
           "angularaxis": {
            "gridcolor": "#EBF0F8",
            "linecolor": "#EBF0F8",
            "ticks": ""
           },
           "bgcolor": "white",
           "radialaxis": {
            "gridcolor": "#EBF0F8",
            "linecolor": "#EBF0F8",
            "ticks": ""
           }
          },
          "scene": {
           "xaxis": {
            "backgroundcolor": "white",
            "gridcolor": "#DFE8F3",
            "gridwidth": 2,
            "linecolor": "#EBF0F8",
            "showbackground": true,
            "ticks": "",
            "zerolinecolor": "#EBF0F8"
           },
           "yaxis": {
            "backgroundcolor": "white",
            "gridcolor": "#DFE8F3",
            "gridwidth": 2,
            "linecolor": "#EBF0F8",
            "showbackground": true,
            "ticks": "",
            "zerolinecolor": "#EBF0F8"
           },
           "zaxis": {
            "backgroundcolor": "white",
            "gridcolor": "#DFE8F3",
            "gridwidth": 2,
            "linecolor": "#EBF0F8",
            "showbackground": true,
            "ticks": "",
            "zerolinecolor": "#EBF0F8"
           }
          },
          "shapedefaults": {
           "line": {
            "color": "#2a3f5f"
           }
          },
          "ternary": {
           "aaxis": {
            "gridcolor": "#DFE8F3",
            "linecolor": "#A2B1C6",
            "ticks": ""
           },
           "baxis": {
            "gridcolor": "#DFE8F3",
            "linecolor": "#A2B1C6",
            "ticks": ""
           },
           "bgcolor": "white",
           "caxis": {
            "gridcolor": "#DFE8F3",
            "linecolor": "#A2B1C6",
            "ticks": ""
           }
          },
          "title": {
           "x": 0.05
          },
          "xaxis": {
           "automargin": true,
           "gridcolor": "#EBF0F8",
           "linecolor": "#EBF0F8",
           "ticks": "",
           "title": {
            "standoff": 15
           },
           "zerolinecolor": "#EBF0F8",
           "zerolinewidth": 2
          },
          "yaxis": {
           "automargin": true,
           "gridcolor": "#EBF0F8",
           "linecolor": "#EBF0F8",
           "ticks": "",
           "title": {
            "standoff": 15
           },
           "zerolinecolor": "#EBF0F8",
           "zerolinewidth": 2
          }
         }
        },
        "xaxis": {
         "anchor": "y",
         "domain": [
          0,
          1
         ],
         "title": {
          "text": "Cause code text"
         }
        },
        "yaxis": {
         "anchor": "x",
         "domain": [
          0,
          1
         ],
         "title": {
          "text": "Hours"
         }
        }
       }
      }
     },
     "metadata": {},
     "output_type": "display_data"
    }
   ],
   "source": [
    "bar_chart.show()"
   ]
  },
  {
   "cell_type": "code",
   "execution_count": 99,
   "metadata": {},
   "outputs": [
    {
     "data": {
      "text/html": [
       "<div>\n",
       "<style scoped>\n",
       "    .dataframe tbody tr th:only-of-type {\n",
       "        vertical-align: middle;\n",
       "    }\n",
       "\n",
       "    .dataframe tbody tr th {\n",
       "        vertical-align: top;\n",
       "    }\n",
       "\n",
       "    .dataframe thead th {\n",
       "        text-align: right;\n",
       "    }\n",
       "</style>\n",
       "<table border=\"1\" class=\"dataframe\">\n",
       "  <thead>\n",
       "    <tr style=\"text-align: right;\">\n",
       "      <th></th>\n",
       "      <th>secs</th>\n",
       "    </tr>\n",
       "    <tr>\n",
       "      <th>Group code text</th>\n",
       "      <th></th>\n",
       "    </tr>\n",
       "  </thead>\n",
       "  <tbody>\n",
       "    <tr>\n",
       "      <th>BWE Electrical</th>\n",
       "      <td>9</td>\n",
       "    </tr>\n",
       "    <tr>\n",
       "      <th>BWE MM</th>\n",
       "      <td>8</td>\n",
       "    </tr>\n",
       "    <tr>\n",
       "      <th>BWE MRR</th>\n",
       "      <td>3</td>\n",
       "    </tr>\n",
       "    <tr>\n",
       "      <th>BWE Operation</th>\n",
       "      <td>8</td>\n",
       "    </tr>\n",
       "    <tr>\n",
       "      <th>BWE VULCANSING</th>\n",
       "      <td>2</td>\n",
       "    </tr>\n",
       "    <tr>\n",
       "      <th>Common Electrical</th>\n",
       "      <td>3</td>\n",
       "    </tr>\n",
       "    <tr>\n",
       "      <th>Common Miscellaneous</th>\n",
       "      <td>13</td>\n",
       "    </tr>\n",
       "    <tr>\n",
       "      <th>Common Operation</th>\n",
       "      <td>3</td>\n",
       "    </tr>\n",
       "    <tr>\n",
       "      <th>Common Other</th>\n",
       "      <td>2</td>\n",
       "    </tr>\n",
       "    <tr>\n",
       "      <th>Conveyor CMM</th>\n",
       "      <td>7</td>\n",
       "    </tr>\n",
       "    <tr>\n",
       "      <th>Conveyor CMRR</th>\n",
       "      <td>4</td>\n",
       "    </tr>\n",
       "    <tr>\n",
       "      <th>Conveyor Electrical</th>\n",
       "      <td>7</td>\n",
       "    </tr>\n",
       "    <tr>\n",
       "      <th>Conveyor Operation</th>\n",
       "      <td>8</td>\n",
       "    </tr>\n",
       "    <tr>\n",
       "      <th>Conveyor Vulcanising</th>\n",
       "      <td>15</td>\n",
       "    </tr>\n",
       "    <tr>\n",
       "      <th>MTC Electrical</th>\n",
       "      <td>4</td>\n",
       "    </tr>\n",
       "  </tbody>\n",
       "</table>\n",
       "</div>"
      ],
      "text/plain": [
       "                      secs\n",
       "Group code text           \n",
       "BWE Electrical           9\n",
       "BWE MM                   8\n",
       "BWE MRR                  3\n",
       "BWE Operation            8\n",
       "BWE VULCANSING           2\n",
       "Common Electrical        3\n",
       "Common Miscellaneous    13\n",
       "Common Operation         3\n",
       "Common Other             2\n",
       "Conveyor CMM             7\n",
       "Conveyor CMRR            4\n",
       "Conveyor Electrical      7\n",
       "Conveyor Operation       8\n",
       "Conveyor Vulcanising    15\n",
       "MTC Electrical           4"
      ]
     },
     "execution_count": 99,
     "metadata": {},
     "output_type": "execute_result"
    }
   ],
   "source": [
    "df_grouped = df.groupby(by=['Group code text']).count()[['secs']]\n",
    "df_grouped.head(15)"
   ]
  },
  {
   "cell_type": "code",
   "execution_count": 100,
   "metadata": {},
   "outputs": [
    {
     "data": {
      "text/html": [
       "<div>\n",
       "<style scoped>\n",
       "    .dataframe tbody tr th:only-of-type {\n",
       "        vertical-align: middle;\n",
       "    }\n",
       "\n",
       "    .dataframe tbody tr th {\n",
       "        vertical-align: top;\n",
       "    }\n",
       "\n",
       "    .dataframe thead th {\n",
       "        text-align: right;\n",
       "    }\n",
       "</style>\n",
       "<table border=\"1\" class=\"dataframe\">\n",
       "  <thead>\n",
       "    <tr style=\"text-align: right;\">\n",
       "      <th></th>\n",
       "      <th>Group code text</th>\n",
       "      <th>hours</th>\n",
       "    </tr>\n",
       "  </thead>\n",
       "  <tbody>\n",
       "    <tr>\n",
       "      <th>0</th>\n",
       "      <td>BWE Electrical</td>\n",
       "      <td>9</td>\n",
       "    </tr>\n",
       "    <tr>\n",
       "      <th>1</th>\n",
       "      <td>BWE MM</td>\n",
       "      <td>8</td>\n",
       "    </tr>\n",
       "    <tr>\n",
       "      <th>2</th>\n",
       "      <td>BWE MRR</td>\n",
       "      <td>3</td>\n",
       "    </tr>\n",
       "    <tr>\n",
       "      <th>3</th>\n",
       "      <td>BWE Operation</td>\n",
       "      <td>8</td>\n",
       "    </tr>\n",
       "    <tr>\n",
       "      <th>4</th>\n",
       "      <td>BWE VULCANSING</td>\n",
       "      <td>2</td>\n",
       "    </tr>\n",
       "    <tr>\n",
       "      <th>5</th>\n",
       "      <td>Common Electrical</td>\n",
       "      <td>3</td>\n",
       "    </tr>\n",
       "    <tr>\n",
       "      <th>6</th>\n",
       "      <td>Common Miscellaneous</td>\n",
       "      <td>13</td>\n",
       "    </tr>\n",
       "    <tr>\n",
       "      <th>7</th>\n",
       "      <td>Common Operation</td>\n",
       "      <td>3</td>\n",
       "    </tr>\n",
       "    <tr>\n",
       "      <th>8</th>\n",
       "      <td>Common Other</td>\n",
       "      <td>2</td>\n",
       "    </tr>\n",
       "    <tr>\n",
       "      <th>9</th>\n",
       "      <td>Conveyor CMM</td>\n",
       "      <td>7</td>\n",
       "    </tr>\n",
       "    <tr>\n",
       "      <th>10</th>\n",
       "      <td>Conveyor CMRR</td>\n",
       "      <td>4</td>\n",
       "    </tr>\n",
       "    <tr>\n",
       "      <th>11</th>\n",
       "      <td>Conveyor Electrical</td>\n",
       "      <td>7</td>\n",
       "    </tr>\n",
       "    <tr>\n",
       "      <th>12</th>\n",
       "      <td>Conveyor Operation</td>\n",
       "      <td>8</td>\n",
       "    </tr>\n",
       "    <tr>\n",
       "      <th>13</th>\n",
       "      <td>Conveyor Vulcanising</td>\n",
       "      <td>15</td>\n",
       "    </tr>\n",
       "    <tr>\n",
       "      <th>14</th>\n",
       "      <td>MTC Electrical</td>\n",
       "      <td>4</td>\n",
       "    </tr>\n",
       "  </tbody>\n",
       "</table>\n",
       "</div>"
      ],
      "text/plain": [
       "         Group code text  hours\n",
       "0         BWE Electrical      9\n",
       "1                 BWE MM      8\n",
       "2                BWE MRR      3\n",
       "3          BWE Operation      8\n",
       "4         BWE VULCANSING      2\n",
       "5      Common Electrical      3\n",
       "6   Common Miscellaneous     13\n",
       "7       Common Operation      3\n",
       "8           Common Other      2\n",
       "9           Conveyor CMM      7\n",
       "10         Conveyor CMRR      4\n",
       "11   Conveyor Electrical      7\n",
       "12    Conveyor Operation      8\n",
       "13  Conveyor Vulcanising     15\n",
       "14        MTC Electrical      4"
      ]
     },
     "execution_count": 100,
     "metadata": {},
     "output_type": "execute_result"
    }
   ],
   "source": [
    "df_grouped = df_grouped.rename(columns={'secs': 'hours'})\n",
    "df_grouped = df_grouped.reset_index().head(15)\n",
    "df_grouped"
   ]
  },
  {
   "cell_type": "code",
   "execution_count": 101,
   "metadata": {},
   "outputs": [],
   "source": [
    "bar_chart = px.bar(df_grouped, \n",
    "             x='Group code text', \n",
    "             y='hours',\n",
    "             color_discrete_sequence =['#F63366']*len(df_grouped),\n",
    "             template= 'plotly_white')"
   ]
  },
  {
   "cell_type": "code",
   "execution_count": 102,
   "metadata": {},
   "outputs": [
    {
     "data": {
      "application/vnd.plotly.v1+json": {
       "config": {
        "plotlyServerURL": "https://plot.ly"
       },
       "data": [
        {
         "alignmentgroup": "True",
         "hovertemplate": "Group code text=%{x}<br>hours=%{y}<extra></extra>",
         "legendgroup": "",
         "marker": {
          "color": "#F63366",
          "pattern": {
           "shape": ""
          }
         },
         "name": "",
         "offsetgroup": "",
         "orientation": "v",
         "showlegend": false,
         "textposition": "auto",
         "type": "bar",
         "x": [
          "BWE Electrical",
          "BWE MM",
          "BWE MRR",
          "BWE Operation",
          "BWE VULCANSING",
          "Common Electrical",
          "Common Miscellaneous",
          "Common Operation",
          "Common Other",
          "Conveyor CMM",
          "Conveyor CMRR",
          "Conveyor Electrical",
          "Conveyor Operation",
          "Conveyor Vulcanising",
          "MTC Electrical"
         ],
         "xaxis": "x",
         "y": [
          9,
          8,
          3,
          8,
          2,
          3,
          13,
          3,
          2,
          7,
          4,
          7,
          8,
          15,
          4
         ],
         "yaxis": "y"
        }
       ],
       "layout": {
        "barmode": "relative",
        "legend": {
         "tracegroupgap": 0
        },
        "margin": {
         "t": 60
        },
        "template": {
         "data": {
          "bar": [
           {
            "error_x": {
             "color": "#2a3f5f"
            },
            "error_y": {
             "color": "#2a3f5f"
            },
            "marker": {
             "line": {
              "color": "white",
              "width": 0.5
             },
             "pattern": {
              "fillmode": "overlay",
              "size": 10,
              "solidity": 0.2
             }
            },
            "type": "bar"
           }
          ],
          "barpolar": [
           {
            "marker": {
             "line": {
              "color": "white",
              "width": 0.5
             },
             "pattern": {
              "fillmode": "overlay",
              "size": 10,
              "solidity": 0.2
             }
            },
            "type": "barpolar"
           }
          ],
          "carpet": [
           {
            "aaxis": {
             "endlinecolor": "#2a3f5f",
             "gridcolor": "#C8D4E3",
             "linecolor": "#C8D4E3",
             "minorgridcolor": "#C8D4E3",
             "startlinecolor": "#2a3f5f"
            },
            "baxis": {
             "endlinecolor": "#2a3f5f",
             "gridcolor": "#C8D4E3",
             "linecolor": "#C8D4E3",
             "minorgridcolor": "#C8D4E3",
             "startlinecolor": "#2a3f5f"
            },
            "type": "carpet"
           }
          ],
          "choropleth": [
           {
            "colorbar": {
             "outlinewidth": 0,
             "ticks": ""
            },
            "type": "choropleth"
           }
          ],
          "contour": [
           {
            "colorbar": {
             "outlinewidth": 0,
             "ticks": ""
            },
            "colorscale": [
             [
              0,
              "#0d0887"
             ],
             [
              0.1111111111111111,
              "#46039f"
             ],
             [
              0.2222222222222222,
              "#7201a8"
             ],
             [
              0.3333333333333333,
              "#9c179e"
             ],
             [
              0.4444444444444444,
              "#bd3786"
             ],
             [
              0.5555555555555556,
              "#d8576b"
             ],
             [
              0.6666666666666666,
              "#ed7953"
             ],
             [
              0.7777777777777778,
              "#fb9f3a"
             ],
             [
              0.8888888888888888,
              "#fdca26"
             ],
             [
              1,
              "#f0f921"
             ]
            ],
            "type": "contour"
           }
          ],
          "contourcarpet": [
           {
            "colorbar": {
             "outlinewidth": 0,
             "ticks": ""
            },
            "type": "contourcarpet"
           }
          ],
          "heatmap": [
           {
            "colorbar": {
             "outlinewidth": 0,
             "ticks": ""
            },
            "colorscale": [
             [
              0,
              "#0d0887"
             ],
             [
              0.1111111111111111,
              "#46039f"
             ],
             [
              0.2222222222222222,
              "#7201a8"
             ],
             [
              0.3333333333333333,
              "#9c179e"
             ],
             [
              0.4444444444444444,
              "#bd3786"
             ],
             [
              0.5555555555555556,
              "#d8576b"
             ],
             [
              0.6666666666666666,
              "#ed7953"
             ],
             [
              0.7777777777777778,
              "#fb9f3a"
             ],
             [
              0.8888888888888888,
              "#fdca26"
             ],
             [
              1,
              "#f0f921"
             ]
            ],
            "type": "heatmap"
           }
          ],
          "heatmapgl": [
           {
            "colorbar": {
             "outlinewidth": 0,
             "ticks": ""
            },
            "colorscale": [
             [
              0,
              "#0d0887"
             ],
             [
              0.1111111111111111,
              "#46039f"
             ],
             [
              0.2222222222222222,
              "#7201a8"
             ],
             [
              0.3333333333333333,
              "#9c179e"
             ],
             [
              0.4444444444444444,
              "#bd3786"
             ],
             [
              0.5555555555555556,
              "#d8576b"
             ],
             [
              0.6666666666666666,
              "#ed7953"
             ],
             [
              0.7777777777777778,
              "#fb9f3a"
             ],
             [
              0.8888888888888888,
              "#fdca26"
             ],
             [
              1,
              "#f0f921"
             ]
            ],
            "type": "heatmapgl"
           }
          ],
          "histogram": [
           {
            "marker": {
             "pattern": {
              "fillmode": "overlay",
              "size": 10,
              "solidity": 0.2
             }
            },
            "type": "histogram"
           }
          ],
          "histogram2d": [
           {
            "colorbar": {
             "outlinewidth": 0,
             "ticks": ""
            },
            "colorscale": [
             [
              0,
              "#0d0887"
             ],
             [
              0.1111111111111111,
              "#46039f"
             ],
             [
              0.2222222222222222,
              "#7201a8"
             ],
             [
              0.3333333333333333,
              "#9c179e"
             ],
             [
              0.4444444444444444,
              "#bd3786"
             ],
             [
              0.5555555555555556,
              "#d8576b"
             ],
             [
              0.6666666666666666,
              "#ed7953"
             ],
             [
              0.7777777777777778,
              "#fb9f3a"
             ],
             [
              0.8888888888888888,
              "#fdca26"
             ],
             [
              1,
              "#f0f921"
             ]
            ],
            "type": "histogram2d"
           }
          ],
          "histogram2dcontour": [
           {
            "colorbar": {
             "outlinewidth": 0,
             "ticks": ""
            },
            "colorscale": [
             [
              0,
              "#0d0887"
             ],
             [
              0.1111111111111111,
              "#46039f"
             ],
             [
              0.2222222222222222,
              "#7201a8"
             ],
             [
              0.3333333333333333,
              "#9c179e"
             ],
             [
              0.4444444444444444,
              "#bd3786"
             ],
             [
              0.5555555555555556,
              "#d8576b"
             ],
             [
              0.6666666666666666,
              "#ed7953"
             ],
             [
              0.7777777777777778,
              "#fb9f3a"
             ],
             [
              0.8888888888888888,
              "#fdca26"
             ],
             [
              1,
              "#f0f921"
             ]
            ],
            "type": "histogram2dcontour"
           }
          ],
          "mesh3d": [
           {
            "colorbar": {
             "outlinewidth": 0,
             "ticks": ""
            },
            "type": "mesh3d"
           }
          ],
          "parcoords": [
           {
            "line": {
             "colorbar": {
              "outlinewidth": 0,
              "ticks": ""
             }
            },
            "type": "parcoords"
           }
          ],
          "pie": [
           {
            "automargin": true,
            "type": "pie"
           }
          ],
          "scatter": [
           {
            "fillpattern": {
             "fillmode": "overlay",
             "size": 10,
             "solidity": 0.2
            },
            "type": "scatter"
           }
          ],
          "scatter3d": [
           {
            "line": {
             "colorbar": {
              "outlinewidth": 0,
              "ticks": ""
             }
            },
            "marker": {
             "colorbar": {
              "outlinewidth": 0,
              "ticks": ""
             }
            },
            "type": "scatter3d"
           }
          ],
          "scattercarpet": [
           {
            "marker": {
             "colorbar": {
              "outlinewidth": 0,
              "ticks": ""
             }
            },
            "type": "scattercarpet"
           }
          ],
          "scattergeo": [
           {
            "marker": {
             "colorbar": {
              "outlinewidth": 0,
              "ticks": ""
             }
            },
            "type": "scattergeo"
           }
          ],
          "scattergl": [
           {
            "marker": {
             "colorbar": {
              "outlinewidth": 0,
              "ticks": ""
             }
            },
            "type": "scattergl"
           }
          ],
          "scattermapbox": [
           {
            "marker": {
             "colorbar": {
              "outlinewidth": 0,
              "ticks": ""
             }
            },
            "type": "scattermapbox"
           }
          ],
          "scatterpolar": [
           {
            "marker": {
             "colorbar": {
              "outlinewidth": 0,
              "ticks": ""
             }
            },
            "type": "scatterpolar"
           }
          ],
          "scatterpolargl": [
           {
            "marker": {
             "colorbar": {
              "outlinewidth": 0,
              "ticks": ""
             }
            },
            "type": "scatterpolargl"
           }
          ],
          "scatterternary": [
           {
            "marker": {
             "colorbar": {
              "outlinewidth": 0,
              "ticks": ""
             }
            },
            "type": "scatterternary"
           }
          ],
          "surface": [
           {
            "colorbar": {
             "outlinewidth": 0,
             "ticks": ""
            },
            "colorscale": [
             [
              0,
              "#0d0887"
             ],
             [
              0.1111111111111111,
              "#46039f"
             ],
             [
              0.2222222222222222,
              "#7201a8"
             ],
             [
              0.3333333333333333,
              "#9c179e"
             ],
             [
              0.4444444444444444,
              "#bd3786"
             ],
             [
              0.5555555555555556,
              "#d8576b"
             ],
             [
              0.6666666666666666,
              "#ed7953"
             ],
             [
              0.7777777777777778,
              "#fb9f3a"
             ],
             [
              0.8888888888888888,
              "#fdca26"
             ],
             [
              1,
              "#f0f921"
             ]
            ],
            "type": "surface"
           }
          ],
          "table": [
           {
            "cells": {
             "fill": {
              "color": "#EBF0F8"
             },
             "line": {
              "color": "white"
             }
            },
            "header": {
             "fill": {
              "color": "#C8D4E3"
             },
             "line": {
              "color": "white"
             }
            },
            "type": "table"
           }
          ]
         },
         "layout": {
          "annotationdefaults": {
           "arrowcolor": "#2a3f5f",
           "arrowhead": 0,
           "arrowwidth": 1
          },
          "autotypenumbers": "strict",
          "coloraxis": {
           "colorbar": {
            "outlinewidth": 0,
            "ticks": ""
           }
          },
          "colorscale": {
           "diverging": [
            [
             0,
             "#8e0152"
            ],
            [
             0.1,
             "#c51b7d"
            ],
            [
             0.2,
             "#de77ae"
            ],
            [
             0.3,
             "#f1b6da"
            ],
            [
             0.4,
             "#fde0ef"
            ],
            [
             0.5,
             "#f7f7f7"
            ],
            [
             0.6,
             "#e6f5d0"
            ],
            [
             0.7,
             "#b8e186"
            ],
            [
             0.8,
             "#7fbc41"
            ],
            [
             0.9,
             "#4d9221"
            ],
            [
             1,
             "#276419"
            ]
           ],
           "sequential": [
            [
             0,
             "#0d0887"
            ],
            [
             0.1111111111111111,
             "#46039f"
            ],
            [
             0.2222222222222222,
             "#7201a8"
            ],
            [
             0.3333333333333333,
             "#9c179e"
            ],
            [
             0.4444444444444444,
             "#bd3786"
            ],
            [
             0.5555555555555556,
             "#d8576b"
            ],
            [
             0.6666666666666666,
             "#ed7953"
            ],
            [
             0.7777777777777778,
             "#fb9f3a"
            ],
            [
             0.8888888888888888,
             "#fdca26"
            ],
            [
             1,
             "#f0f921"
            ]
           ],
           "sequentialminus": [
            [
             0,
             "#0d0887"
            ],
            [
             0.1111111111111111,
             "#46039f"
            ],
            [
             0.2222222222222222,
             "#7201a8"
            ],
            [
             0.3333333333333333,
             "#9c179e"
            ],
            [
             0.4444444444444444,
             "#bd3786"
            ],
            [
             0.5555555555555556,
             "#d8576b"
            ],
            [
             0.6666666666666666,
             "#ed7953"
            ],
            [
             0.7777777777777778,
             "#fb9f3a"
            ],
            [
             0.8888888888888888,
             "#fdca26"
            ],
            [
             1,
             "#f0f921"
            ]
           ]
          },
          "colorway": [
           "#636efa",
           "#EF553B",
           "#00cc96",
           "#ab63fa",
           "#FFA15A",
           "#19d3f3",
           "#FF6692",
           "#B6E880",
           "#FF97FF",
           "#FECB52"
          ],
          "font": {
           "color": "#2a3f5f"
          },
          "geo": {
           "bgcolor": "white",
           "lakecolor": "white",
           "landcolor": "white",
           "showlakes": true,
           "showland": true,
           "subunitcolor": "#C8D4E3"
          },
          "hoverlabel": {
           "align": "left"
          },
          "hovermode": "closest",
          "mapbox": {
           "style": "light"
          },
          "paper_bgcolor": "white",
          "plot_bgcolor": "white",
          "polar": {
           "angularaxis": {
            "gridcolor": "#EBF0F8",
            "linecolor": "#EBF0F8",
            "ticks": ""
           },
           "bgcolor": "white",
           "radialaxis": {
            "gridcolor": "#EBF0F8",
            "linecolor": "#EBF0F8",
            "ticks": ""
           }
          },
          "scene": {
           "xaxis": {
            "backgroundcolor": "white",
            "gridcolor": "#DFE8F3",
            "gridwidth": 2,
            "linecolor": "#EBF0F8",
            "showbackground": true,
            "ticks": "",
            "zerolinecolor": "#EBF0F8"
           },
           "yaxis": {
            "backgroundcolor": "white",
            "gridcolor": "#DFE8F3",
            "gridwidth": 2,
            "linecolor": "#EBF0F8",
            "showbackground": true,
            "ticks": "",
            "zerolinecolor": "#EBF0F8"
           },
           "zaxis": {
            "backgroundcolor": "white",
            "gridcolor": "#DFE8F3",
            "gridwidth": 2,
            "linecolor": "#EBF0F8",
            "showbackground": true,
            "ticks": "",
            "zerolinecolor": "#EBF0F8"
           }
          },
          "shapedefaults": {
           "line": {
            "color": "#2a3f5f"
           }
          },
          "ternary": {
           "aaxis": {
            "gridcolor": "#DFE8F3",
            "linecolor": "#A2B1C6",
            "ticks": ""
           },
           "baxis": {
            "gridcolor": "#DFE8F3",
            "linecolor": "#A2B1C6",
            "ticks": ""
           },
           "bgcolor": "white",
           "caxis": {
            "gridcolor": "#DFE8F3",
            "linecolor": "#A2B1C6",
            "ticks": ""
           }
          },
          "title": {
           "x": 0.05
          },
          "xaxis": {
           "automargin": true,
           "gridcolor": "#EBF0F8",
           "linecolor": "#EBF0F8",
           "ticks": "",
           "title": {
            "standoff": 15
           },
           "zerolinecolor": "#EBF0F8",
           "zerolinewidth": 2
          },
          "yaxis": {
           "automargin": true,
           "gridcolor": "#EBF0F8",
           "linecolor": "#EBF0F8",
           "ticks": "",
           "title": {
            "standoff": 15
           },
           "zerolinecolor": "#EBF0F8",
           "zerolinewidth": 2
          }
         }
        },
        "xaxis": {
         "anchor": "y",
         "domain": [
          0,
          1
         ],
         "title": {
          "text": "Group code text"
         }
        },
        "yaxis": {
         "anchor": "x",
         "domain": [
          0,
          1
         ],
         "title": {
          "text": "hours"
         }
        }
       }
      }
     },
     "metadata": {},
     "output_type": "display_data"
    }
   ],
   "source": [
    "bar_chart.show()"
   ]
  }
 ],
 "metadata": {
  "kernelspec": {
   "display_name": "Python 3",
   "language": "python",
   "name": "python3"
  },
  "language_info": {
   "codemirror_mode": {
    "name": "ipython",
    "version": 3
   },
   "file_extension": ".py",
   "mimetype": "text/x-python",
   "name": "python",
   "nbconvert_exporter": "python",
   "pygments_lexer": "ipython3",
   "version": "3.11.2"
  },
  "orig_nbformat": 4
 },
 "nbformat": 4,
 "nbformat_minor": 2
}
